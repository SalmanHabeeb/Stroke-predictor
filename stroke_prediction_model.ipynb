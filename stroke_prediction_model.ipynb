{
  "nbformat": 4,
  "nbformat_minor": 0,
  "metadata": {
    "colab": {
      "name": "Untitled30.ipynb",
      "provenance": [],
      "authorship_tag": "ABX9TyN0Y+u9jwUhwBFrP9uRdUM2"
    },
    "kernelspec": {
      "name": "python3",
      "display_name": "Python 3"
    },
    "language_info": {
      "name": "python"
    },
    "widgets": {
      "application/vnd.jupyter.widget-state+json": {
        "f28d698590fc41a49329834fbecedb5e": {
          "model_module": "@jupyter-widgets/controls",
          "model_name": "FileUploadModel",
          "model_module_version": "1.5.0",
          "state": {
            "_counter": 1,
            "_dom_classes": [],
            "_model_module": "@jupyter-widgets/controls",
            "_model_module_version": "1.5.0",
            "_model_name": "FileUploadModel",
            "_view_count": null,
            "_view_module": "@jupyter-widgets/controls",
            "_view_module_version": "1.5.0",
            "_view_name": "FileUploadView",
            "accept": "",
            "button_style": "",
            "data": [
              null
            ],
            "description": "Upload",
            "description_tooltip": null,
            "disabled": false,
            "error": "",
            "icon": "upload",
            "layout": "IPY_MODEL_f9e3acb61e94487eb1f9df08c5dc2eea",
            "metadata": [
              {
                "name": "healthcare-dataset-stroke-data.csv",
                "type": "text/csv",
                "size": 316971,
                "lastModified": 1656765380812
              }
            ],
            "multiple": false,
            "style": "IPY_MODEL_aa4c22a94ee545c59cfbb329dd8e150d"
          }
        },
        "f9e3acb61e94487eb1f9df08c5dc2eea": {
          "model_module": "@jupyter-widgets/base",
          "model_name": "LayoutModel",
          "model_module_version": "1.2.0",
          "state": {
            "_model_module": "@jupyter-widgets/base",
            "_model_module_version": "1.2.0",
            "_model_name": "LayoutModel",
            "_view_count": null,
            "_view_module": "@jupyter-widgets/base",
            "_view_module_version": "1.2.0",
            "_view_name": "LayoutView",
            "align_content": null,
            "align_items": null,
            "align_self": null,
            "border": null,
            "bottom": null,
            "display": null,
            "flex": null,
            "flex_flow": null,
            "grid_area": null,
            "grid_auto_columns": null,
            "grid_auto_flow": null,
            "grid_auto_rows": null,
            "grid_column": null,
            "grid_gap": null,
            "grid_row": null,
            "grid_template_areas": null,
            "grid_template_columns": null,
            "grid_template_rows": null,
            "height": null,
            "justify_content": null,
            "justify_items": null,
            "left": null,
            "margin": null,
            "max_height": null,
            "max_width": null,
            "min_height": null,
            "min_width": null,
            "object_fit": null,
            "object_position": null,
            "order": null,
            "overflow": null,
            "overflow_x": null,
            "overflow_y": null,
            "padding": null,
            "right": null,
            "top": null,
            "visibility": null,
            "width": null
          }
        },
        "aa4c22a94ee545c59cfbb329dd8e150d": {
          "model_module": "@jupyter-widgets/controls",
          "model_name": "ButtonStyleModel",
          "model_module_version": "1.5.0",
          "state": {
            "_model_module": "@jupyter-widgets/controls",
            "_model_module_version": "1.5.0",
            "_model_name": "ButtonStyleModel",
            "_view_count": null,
            "_view_module": "@jupyter-widgets/base",
            "_view_module_version": "1.2.0",
            "_view_name": "StyleView",
            "button_color": null,
            "font_weight": ""
          }
        }
      }
    }
  },
  "cells": [
    {
      "cell_type": "code",
      "execution_count": 1,
      "metadata": {
        "id": "IsM29_SVWBng"
      },
      "outputs": [],
      "source": [
        "from ipywidgets import FileUpload\n",
        "import numpy as np\n",
        "import pandas as pd\n",
        "import matplotlib.pyplot as plt\n",
        "import io\n",
        "from collections import Counter"
      ]
    },
    {
      "cell_type": "code",
      "source": [
        "from imblearn.over_sampling import SMOTE\n",
        "from imblearn.under_sampling import RandomUnderSampler\n",
        "from imblearn.pipeline import Pipeline"
      ],
      "metadata": {
        "id": "y-4We5g6nWOg"
      },
      "execution_count": 2,
      "outputs": []
    },
    {
      "cell_type": "code",
      "execution_count": 3,
      "metadata": {
        "colab": {
          "base_uri": "https://localhost:8080/",
          "height": 49,
          "referenced_widgets": [
            "f28d698590fc41a49329834fbecedb5e",
            "f9e3acb61e94487eb1f9df08c5dc2eea",
            "aa4c22a94ee545c59cfbb329dd8e150d"
          ]
        },
        "id": "i60Q2IzLWODM",
        "outputId": "2501cd6d-127f-429d-ff07-0c99eac70aca"
      },
      "outputs": [
        {
          "output_type": "display_data",
          "data": {
            "text/plain": [
              "FileUpload(value={}, description='Upload')"
            ],
            "application/vnd.jupyter.widget-view+json": {
              "version_major": 2,
              "version_minor": 0,
              "model_id": "f28d698590fc41a49329834fbecedb5e"
            }
          },
          "metadata": {}
        }
      ],
      "source": [
        "uploader = FileUpload()\n",
        "uploader"
      ]
    },
    {
      "cell_type": "code",
      "execution_count": 4,
      "metadata": {
        "id": "mfd-MQVLWUYN"
      },
      "outputs": [],
      "source": [
        "file = list(uploader.value.values())[0]\n",
        "content = file['content']\n",
        "content = io.StringIO(content.decode('utf-8'))\n",
        "df = pd.read_csv(content)"
      ]
    },
    {
      "cell_type": "code",
      "source": [
        "df = df.drop(columns = ['id'])"
      ],
      "metadata": {
        "id": "VZBbKbYlOVJy"
      },
      "execution_count": 5,
      "outputs": []
    },
    {
      "cell_type": "code",
      "source": [
        "df[df['hypertension'] == 1]['heart_disease'].value_counts()"
      ],
      "metadata": {
        "colab": {
          "base_uri": "https://localhost:8080/"
        },
        "id": "tPsX0-nc_L-j",
        "outputId": "52eec722-9174-4eab-ea75-09756823df5c"
      },
      "execution_count": 6,
      "outputs": [
        {
          "output_type": "execute_result",
          "data": {
            "text/plain": [
              "0    434\n",
              "1     64\n",
              "Name: heart_disease, dtype: int64"
            ]
          },
          "metadata": {},
          "execution_count": 6
        }
      ]
    },
    {
      "cell_type": "code",
      "execution_count": 7,
      "metadata": {
        "id": "EDitA4xrWe5p"
      },
      "outputs": [],
      "source": [
        "df['gender'] = (df['gender'] == 'Female').astype(int)"
      ]
    },
    {
      "cell_type": "code",
      "execution_count": 8,
      "metadata": {
        "id": "tTbC3Ep9WzbO"
      },
      "outputs": [],
      "source": [
        "df['ever_married'] = (df['ever_married'] == 'Yes').astype(int)"
      ]
    },
    {
      "cell_type": "code",
      "execution_count": 9,
      "metadata": {
        "id": "RDzAkcniW3Ls"
      },
      "outputs": [],
      "source": [
        "df['Residence_type'] = (df['Residence_type'] == 'Urban').astype(int)"
      ]
    },
    {
      "cell_type": "code",
      "execution_count": 10,
      "metadata": {
        "id": "I4Xz4C1lXp8Z"
      },
      "outputs": [],
      "source": [
        "work_types = list(set(df['work_type']))"
      ]
    },
    {
      "cell_type": "code",
      "source": [
        "print(work_types)"
      ],
      "metadata": {
        "colab": {
          "base_uri": "https://localhost:8080/"
        },
        "id": "Y7bg8vEOBVgZ",
        "outputId": "dd99fdbd-37ce-4e9c-b184-0475385ea0b6"
      },
      "execution_count": 11,
      "outputs": [
        {
          "output_type": "stream",
          "name": "stdout",
          "text": [
            "['Govt_job', 'Self-employed', 'Never_worked', 'Private', 'children']\n"
          ]
        }
      ]
    },
    {
      "cell_type": "code",
      "source": [
        "work_types_dict = {\n",
        "                   'Self-employed' : 1,\n",
        "                   'Govt_job' : 0.5,\n",
        "                   'Private' : 0.5,\n",
        "                   'Never_worked' : 0,\n",
        "                   'children' : 0,\n",
        "                  }"
      ],
      "metadata": {
        "id": "whewaJeQBlVG"
      },
      "execution_count": 12,
      "outputs": []
    },
    {
      "cell_type": "code",
      "source": [
        "print(work_types_dict.keys())\n",
        "print(work_types_dict.values())"
      ],
      "metadata": {
        "colab": {
          "base_uri": "https://localhost:8080/"
        },
        "id": "BjgGIUsCCOJ8",
        "outputId": "13aefb40-dd06-4f41-ec50-d1aabbecac91"
      },
      "execution_count": 13,
      "outputs": [
        {
          "output_type": "stream",
          "name": "stdout",
          "text": [
            "dict_keys(['Self-employed', 'Govt_job', 'Private', 'Never_worked', 'children'])\n",
            "dict_values([1, 0.5, 0.5, 0, 0])\n"
          ]
        }
      ]
    },
    {
      "cell_type": "code",
      "source": [
        "df = df.replace(work_types_dict.keys(), work_types_dict.values())"
      ],
      "metadata": {
        "id": "qpHr1gPwAS3y"
      },
      "execution_count": 14,
      "outputs": []
    },
    {
      "cell_type": "code",
      "source": [
        "smoking_status = list(set(df['smoking_status']))"
      ],
      "metadata": {
        "id": "hmr9iVOODRdr"
      },
      "execution_count": 15,
      "outputs": []
    },
    {
      "cell_type": "code",
      "source": [
        "smoking_status_dict = {\n",
        "                          'formerly smoked' : 0.5,\n",
        "                          'smokes' : 1,\n",
        "                          'never smoked' : 0,\n",
        "                          'Unknown' : np.nan,\n",
        "                      }"
      ],
      "metadata": {
        "id": "7HSiLqxtDYiJ"
      },
      "execution_count": 16,
      "outputs": []
    },
    {
      "cell_type": "code",
      "source": [
        "df = df.replace(smoking_status_dict.keys(), smoking_status_dict.values())"
      ],
      "metadata": {
        "id": "M1zhzIF7BUUJ"
      },
      "execution_count": 17,
      "outputs": []
    },
    {
      "cell_type": "code",
      "source": [
        "smoking_status_mean = df['smoking_status'].mean()\n",
        "smoking_status_std = df['smoking_status'].std()\n",
        "\n",
        "for i in range(len(df['smoking_status'])):\n",
        "    if np.isnan(df.loc[i, 'smoking_status']):\n",
        "        df.loc[i, 'smoking_status'] = np.random.normal(smoking_status_mean, smoking_status_std)\n",
        "df['smoking_status'] = df['smoking_status'].fillna(value = np.random.normal(smoking_status_mean, smoking_status_std))"
      ],
      "metadata": {
        "id": "348wHvrPHHsC"
      },
      "execution_count": 18,
      "outputs": []
    },
    {
      "cell_type": "code",
      "source": [
        "df.isna().sum()"
      ],
      "metadata": {
        "colab": {
          "base_uri": "https://localhost:8080/"
        },
        "id": "-3CIr6zxKmtz",
        "outputId": "bad02082-0602-4d06-f4a8-77670ed6c5e4"
      },
      "execution_count": 19,
      "outputs": [
        {
          "output_type": "execute_result",
          "data": {
            "text/plain": [
              "gender                 0\n",
              "age                    0\n",
              "hypertension           0\n",
              "heart_disease          0\n",
              "ever_married           0\n",
              "work_type              0\n",
              "Residence_type         0\n",
              "avg_glucose_level      0\n",
              "bmi                  201\n",
              "smoking_status         0\n",
              "stroke                 0\n",
              "dtype: int64"
            ]
          },
          "metadata": {},
          "execution_count": 19
        }
      ]
    },
    {
      "cell_type": "code",
      "source": [
        "df['bmi'].value_counts().max()"
      ],
      "metadata": {
        "colab": {
          "base_uri": "https://localhost:8080/"
        },
        "id": "XhFKcjsbKuCb",
        "outputId": "257d9878-6635-4566-ab53-d2fd80a4ad5b"
      },
      "execution_count": 20,
      "outputs": [
        {
          "output_type": "execute_result",
          "data": {
            "text/plain": [
              "41"
            ]
          },
          "metadata": {},
          "execution_count": 20
        }
      ]
    },
    {
      "cell_type": "code",
      "source": [
        "df.isna().sum()"
      ],
      "metadata": {
        "colab": {
          "base_uri": "https://localhost:8080/"
        },
        "id": "Vj9ct47rMBnK",
        "outputId": "7e690238-a72f-4753-ee4f-d37077bf53b1"
      },
      "execution_count": 21,
      "outputs": [
        {
          "output_type": "execute_result",
          "data": {
            "text/plain": [
              "gender                 0\n",
              "age                    0\n",
              "hypertension           0\n",
              "heart_disease          0\n",
              "ever_married           0\n",
              "work_type              0\n",
              "Residence_type         0\n",
              "avg_glucose_level      0\n",
              "bmi                  201\n",
              "smoking_status         0\n",
              "stroke                 0\n",
              "dtype: int64"
            ]
          },
          "metadata": {},
          "execution_count": 21
        }
      ]
    },
    {
      "cell_type": "code",
      "source": [
        "df.columns"
      ],
      "metadata": {
        "colab": {
          "base_uri": "https://localhost:8080/"
        },
        "id": "4Ap-2sFeOQ24",
        "outputId": "e1a32fb4-f1cf-4c43-b078-057fd4ded0ee"
      },
      "execution_count": 22,
      "outputs": [
        {
          "output_type": "execute_result",
          "data": {
            "text/plain": [
              "Index(['gender', 'age', 'hypertension', 'heart_disease', 'ever_married',\n",
              "       'work_type', 'Residence_type', 'avg_glucose_level', 'bmi',\n",
              "       'smoking_status', 'stroke'],\n",
              "      dtype='object')"
            ]
          },
          "metadata": {},
          "execution_count": 22
        }
      ]
    },
    {
      "cell_type": "code",
      "source": [
        "continuous_columns = ['age', 'avg_glucose_level', 'bmi']\n",
        "for i in range(len(continuous_columns)):\n",
        "    df[continuous_columns[i]] = (df[continuous_columns[i]] - df[continuous_columns[i]].mean())/df[continuous_columns[i]].mean()"
      ],
      "metadata": {
        "id": "1o4VYeFwN9dC"
      },
      "execution_count": 23,
      "outputs": []
    },
    {
      "cell_type": "code",
      "source": [
        "bmi_mean = df['bmi'].mean()\n",
        "bmi_std = df['bmi'].std()\n",
        "for i in range(len(df['bmi'])):\n",
        "    if np.isnan(df.loc[i, 'bmi']):\n",
        "        df.loc[i, 'bmi'] = np.random.normal(bmi_mean, bmi_std)"
      ],
      "metadata": {
        "id": "sS0Jyj9UKHnC"
      },
      "execution_count": 24,
      "outputs": []
    },
    {
      "cell_type": "code",
      "source": [
        "df = df.sample(frac = 1.0, random_state = 32).reset_index().drop(columns = ['index'])"
      ],
      "metadata": {
        "id": "Iy-JqOWLS5Hj"
      },
      "execution_count": 25,
      "outputs": []
    },
    {
      "cell_type": "code",
      "source": [
        "train_df = df[:3000]\n",
        "test_df = df[3000:]"
      ],
      "metadata": {
        "id": "hbBVRkURTxpj"
      },
      "execution_count": 26,
      "outputs": []
    },
    {
      "cell_type": "code",
      "source": [
        "train_df.isna().sum()"
      ],
      "metadata": {
        "colab": {
          "base_uri": "https://localhost:8080/"
        },
        "id": "dC20WlHckWTZ",
        "outputId": "cf7e4012-d414-4678-e3c0-3d13a40f782e"
      },
      "execution_count": 27,
      "outputs": [
        {
          "output_type": "execute_result",
          "data": {
            "text/plain": [
              "gender               0\n",
              "age                  0\n",
              "hypertension         0\n",
              "heart_disease        0\n",
              "ever_married         0\n",
              "work_type            0\n",
              "Residence_type       0\n",
              "avg_glucose_level    0\n",
              "bmi                  0\n",
              "smoking_status       0\n",
              "stroke               0\n",
              "dtype: int64"
            ]
          },
          "metadata": {},
          "execution_count": 27
        }
      ]
    },
    {
      "cell_type": "code",
      "source": [
        "X_train = train_df.drop(columns = ['stroke'])\n",
        "y_train = train_df['stroke']"
      ],
      "metadata": {
        "id": "BEUYe6Jskbef"
      },
      "execution_count": 28,
      "outputs": []
    },
    {
      "cell_type": "code",
      "source": [
        "count = Counter(y_train)\n",
        "count"
      ],
      "metadata": {
        "colab": {
          "base_uri": "https://localhost:8080/"
        },
        "id": "tBpl2roszLOz",
        "outputId": "527c0599-ca9e-4f51-9763-2a7afff99c51"
      },
      "execution_count": 29,
      "outputs": [
        {
          "output_type": "execute_result",
          "data": {
            "text/plain": [
              "Counter({0: 2861, 1: 139})"
            ]
          },
          "metadata": {},
          "execution_count": 29
        }
      ]
    },
    {
      "cell_type": "code",
      "source": [
        "X_test = test_df.drop(columns = ['stroke'])\n",
        "y_test = test_df['stroke']"
      ],
      "metadata": {
        "id": "J-LRRS4jlGBV"
      },
      "execution_count": 30,
      "outputs": []
    },
    {
      "cell_type": "code",
      "source": [
        "from keras.models import Sequential\n",
        "from keras.layers import Dense, Dropout"
      ],
      "metadata": {
        "id": "KAB64-kGkue0"
      },
      "execution_count": 31,
      "outputs": []
    },
    {
      "cell_type": "code",
      "source": [
        "model = Sequential()\n",
        "model.add(Dense(len(train_df.columns)))\n",
        "model.add(Dense(32, activation = 'relu'))\n",
        "model.add(Dropout(0.1))\n",
        "model.add(Dense(16, activation = 'relu'))\n",
        "model.add(Dropout(0.1))\n",
        "model.add(Dense(8, activation = 'relu'))\n",
        "model.add(Dropout(0.1))\n",
        "model.add(Dense(1, activation = 'sigmoid'))\n",
        "model.compile(loss = 'binary_crossentropy', optimizer = 'adam', metrics = 'accuracy')"
      ],
      "metadata": {
        "id": "kZ6aY8DdkqV4"
      },
      "execution_count": 32,
      "outputs": []
    },
    {
      "cell_type": "code",
      "source": [
        "for i in range(20):\n",
        "  X_train = train_df.drop(columns = ['stroke'])\n",
        "  y_train = train_df['stroke']\n",
        "  oversample = SMOTE(sampling_strategy=0.1)\n",
        "  undersample = RandomUnderSampler(sampling_strategy=0.8)\n",
        "  steps = [('o', oversample), ('u', undersample)]\n",
        "  pipeline = Pipeline(steps = steps)\n",
        "  X_train, y_train = pipeline.fit_resample(X_train, y_train)\n",
        "  model.fit(X_train, y_train, epochs = 10)"
      ],
      "metadata": {
        "id": "4WaIA336kyQD"
      },
      "execution_count": 33,
      "outputs": []
    },
    {
      "cell_type": "code",
      "source": [
        "model.evaluate(X_test, y_test)"
      ],
      "metadata": {
        "colab": {
          "base_uri": "https://localhost:8080/"
        },
        "id": "7gmHmQCJk2qj",
        "outputId": "fcb0ed99-5f43-4cd4-bb92-558179e3c25d"
      },
      "execution_count": 34,
      "outputs": [
        {
          "output_type": "stream",
          "name": "stdout",
          "text": [
            "66/66 [==============================] - 0s 2ms/step - loss: 0.3975 - accuracy: 0.7763\n"
          ]
        },
        {
          "output_type": "execute_result",
          "data": {
            "text/plain": [
              "[0.39752358198165894, 0.7763032913208008]"
            ]
          },
          "metadata": {},
          "execution_count": 34
        }
      ]
    },
    {
      "cell_type": "code",
      "source": [
        "model_json = model.to_json()\n",
        "\n",
        "with open(\"model.json\", \"w\") as json_file:\n",
        "    json_file.write(model_json)\n",
        "\n",
        "# serialize weights to HDF5\n",
        "model.save_weights(\"model.h5\")\n",
        "\n",
        "print(\"Saved model to disk\")"
      ],
      "metadata": {
        "colab": {
          "base_uri": "https://localhost:8080/"
        },
        "id": "vhE38A983I41",
        "outputId": "a08f7808-acf0-409b-ef2c-1ff3121bd2f6"
      },
      "execution_count": 35,
      "outputs": [
        {
          "output_type": "stream",
          "name": "stdout",
          "text": [
            "Saved model to disk\n"
          ]
        }
      ]
    }
  ]
}