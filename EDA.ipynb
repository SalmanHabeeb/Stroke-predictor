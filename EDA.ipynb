{
  "nbformat": 4,
  "nbformat_minor": 0,
  "metadata": {
    "colab": {
      "name": "Untitled0.ipynb",
      "provenance": [],
      "authorship_tag": "ABX9TyM0019W/UOB40c0v7SMA4Ys"
    },
    "kernelspec": {
      "name": "python3",
      "display_name": "Python 3"
    },
    "language_info": {
      "name": "python"
    }
  },
  "cells": [
    {
      "cell_type": "code",
      "execution_count": 1,
      "metadata": {
        "id": "9p9oSR3wIkno"
      },
      "outputs": [],
      "source": [
        "# !pip3 install numpy==1.21.6\n",
        "# !pip3 install pandas==1.3.5\n",
        "# !pip3 install matplotlib==3.2.2\n",
        "# !pip3 install scipy==1.4.1"
      ]
    },
    {
      "cell_type": "code",
      "execution_count": 2,
      "metadata": {
        "id": "1vMT88wkNjmM"
      },
      "outputs": [],
      "source": [
        "import numpy as np\n",
        "import pandas as pd\n",
        "import matplotlib.pyplot as plt\n",
        "import scipy.stats as st"
      ]
    },
    {
      "cell_type": "code",
      "execution_count": 3,
      "metadata": {
        "id": "pjvl9YIANswe"
      },
      "outputs": [],
      "source": [
        "# uploader = FileUpload()\n",
        "# uploader"
      ]
    },
    {
      "cell_type": "code",
      "execution_count": 4,
      "metadata": {
        "id": "QBmQuZ6-NyBU"
      },
      "outputs": [],
      "source": [
        "# file = list(uploader.value.values())[0]\n",
        "# content = file['content']\n",
        "# content = io.StringIO(content.decode('utf-8'))\n",
        "content = \"https://raw.githubusercontent.com/SalmanHabeeb/Stroke-predictor/main/dataset/healthcare-dataset-stroke-data.csv\"\n",
        "df = pd.read_csv(content)"
      ]
    },
    {
      "cell_type": "code",
      "execution_count": 5,
      "metadata": {
        "colab": {
          "base_uri": "https://localhost:8080/"
        },
        "id": "sgZ7GGl5OCfi",
        "outputId": "456b1424-808c-465d-bd0e-fab2f0451653"
      },
      "outputs": [
        {
          "output_type": "execute_result",
          "data": {
            "text/plain": [
              "Index(['id', 'gender', 'age', 'hypertension', 'heart_disease', 'ever_married',\n",
              "       'work_type', 'Residence_type', 'avg_glucose_level', 'bmi',\n",
              "       'smoking_status', 'stroke'],\n",
              "      dtype='object')"
            ]
          },
          "metadata": {},
          "execution_count": 5
        }
      ],
      "source": [
        "df.columns"
      ]
    },
    {
      "cell_type": "code",
      "execution_count": 6,
      "metadata": {
        "colab": {
          "base_uri": "https://localhost:8080/",
          "height": 250
        },
        "id": "TeLNZNeL_yXM",
        "outputId": "a9cf956f-1950-43a1-f1ec-3aa42986d3a4"
      },
      "outputs": [
        {
          "output_type": "execute_result",
          "data": {
            "text/plain": [
              "      id  gender   age  hypertension  heart_disease ever_married  \\\n",
              "0   9046    Male  67.0             0              1          Yes   \n",
              "1  51676  Female  61.0             0              0          Yes   \n",
              "2  31112    Male  80.0             0              1          Yes   \n",
              "3  60182  Female  49.0             0              0          Yes   \n",
              "4   1665  Female  79.0             1              0          Yes   \n",
              "\n",
              "       work_type Residence_type  avg_glucose_level   bmi   smoking_status  \\\n",
              "0        Private          Urban             228.69  36.6  formerly smoked   \n",
              "1  Self-employed          Rural             202.21   NaN     never smoked   \n",
              "2        Private          Rural             105.92  32.5     never smoked   \n",
              "3        Private          Urban             171.23  34.4           smokes   \n",
              "4  Self-employed          Rural             174.12  24.0     never smoked   \n",
              "\n",
              "   stroke  \n",
              "0       1  \n",
              "1       1  \n",
              "2       1  \n",
              "3       1  \n",
              "4       1  "
            ],
            "text/html": [
              "\n",
              "  <div id=\"df-d95ab20f-7559-499b-92a1-814cbb78c74a\">\n",
              "    <div class=\"colab-df-container\">\n",
              "      <div>\n",
              "<style scoped>\n",
              "    .dataframe tbody tr th:only-of-type {\n",
              "        vertical-align: middle;\n",
              "    }\n",
              "\n",
              "    .dataframe tbody tr th {\n",
              "        vertical-align: top;\n",
              "    }\n",
              "\n",
              "    .dataframe thead th {\n",
              "        text-align: right;\n",
              "    }\n",
              "</style>\n",
              "<table border=\"1\" class=\"dataframe\">\n",
              "  <thead>\n",
              "    <tr style=\"text-align: right;\">\n",
              "      <th></th>\n",
              "      <th>id</th>\n",
              "      <th>gender</th>\n",
              "      <th>age</th>\n",
              "      <th>hypertension</th>\n",
              "      <th>heart_disease</th>\n",
              "      <th>ever_married</th>\n",
              "      <th>work_type</th>\n",
              "      <th>Residence_type</th>\n",
              "      <th>avg_glucose_level</th>\n",
              "      <th>bmi</th>\n",
              "      <th>smoking_status</th>\n",
              "      <th>stroke</th>\n",
              "    </tr>\n",
              "  </thead>\n",
              "  <tbody>\n",
              "    <tr>\n",
              "      <th>0</th>\n",
              "      <td>9046</td>\n",
              "      <td>Male</td>\n",
              "      <td>67.0</td>\n",
              "      <td>0</td>\n",
              "      <td>1</td>\n",
              "      <td>Yes</td>\n",
              "      <td>Private</td>\n",
              "      <td>Urban</td>\n",
              "      <td>228.69</td>\n",
              "      <td>36.6</td>\n",
              "      <td>formerly smoked</td>\n",
              "      <td>1</td>\n",
              "    </tr>\n",
              "    <tr>\n",
              "      <th>1</th>\n",
              "      <td>51676</td>\n",
              "      <td>Female</td>\n",
              "      <td>61.0</td>\n",
              "      <td>0</td>\n",
              "      <td>0</td>\n",
              "      <td>Yes</td>\n",
              "      <td>Self-employed</td>\n",
              "      <td>Rural</td>\n",
              "      <td>202.21</td>\n",
              "      <td>NaN</td>\n",
              "      <td>never smoked</td>\n",
              "      <td>1</td>\n",
              "    </tr>\n",
              "    <tr>\n",
              "      <th>2</th>\n",
              "      <td>31112</td>\n",
              "      <td>Male</td>\n",
              "      <td>80.0</td>\n",
              "      <td>0</td>\n",
              "      <td>1</td>\n",
              "      <td>Yes</td>\n",
              "      <td>Private</td>\n",
              "      <td>Rural</td>\n",
              "      <td>105.92</td>\n",
              "      <td>32.5</td>\n",
              "      <td>never smoked</td>\n",
              "      <td>1</td>\n",
              "    </tr>\n",
              "    <tr>\n",
              "      <th>3</th>\n",
              "      <td>60182</td>\n",
              "      <td>Female</td>\n",
              "      <td>49.0</td>\n",
              "      <td>0</td>\n",
              "      <td>0</td>\n",
              "      <td>Yes</td>\n",
              "      <td>Private</td>\n",
              "      <td>Urban</td>\n",
              "      <td>171.23</td>\n",
              "      <td>34.4</td>\n",
              "      <td>smokes</td>\n",
              "      <td>1</td>\n",
              "    </tr>\n",
              "    <tr>\n",
              "      <th>4</th>\n",
              "      <td>1665</td>\n",
              "      <td>Female</td>\n",
              "      <td>79.0</td>\n",
              "      <td>1</td>\n",
              "      <td>0</td>\n",
              "      <td>Yes</td>\n",
              "      <td>Self-employed</td>\n",
              "      <td>Rural</td>\n",
              "      <td>174.12</td>\n",
              "      <td>24.0</td>\n",
              "      <td>never smoked</td>\n",
              "      <td>1</td>\n",
              "    </tr>\n",
              "  </tbody>\n",
              "</table>\n",
              "</div>\n",
              "      <button class=\"colab-df-convert\" onclick=\"convertToInteractive('df-d95ab20f-7559-499b-92a1-814cbb78c74a')\"\n",
              "              title=\"Convert this dataframe to an interactive table.\"\n",
              "              style=\"display:none;\">\n",
              "        \n",
              "  <svg xmlns=\"http://www.w3.org/2000/svg\" height=\"24px\"viewBox=\"0 0 24 24\"\n",
              "       width=\"24px\">\n",
              "    <path d=\"M0 0h24v24H0V0z\" fill=\"none\"/>\n",
              "    <path d=\"M18.56 5.44l.94 2.06.94-2.06 2.06-.94-2.06-.94-.94-2.06-.94 2.06-2.06.94zm-11 1L8.5 8.5l.94-2.06 2.06-.94-2.06-.94L8.5 2.5l-.94 2.06-2.06.94zm10 10l.94 2.06.94-2.06 2.06-.94-2.06-.94-.94-2.06-.94 2.06-2.06.94z\"/><path d=\"M17.41 7.96l-1.37-1.37c-.4-.4-.92-.59-1.43-.59-.52 0-1.04.2-1.43.59L10.3 9.45l-7.72 7.72c-.78.78-.78 2.05 0 2.83L4 21.41c.39.39.9.59 1.41.59.51 0 1.02-.2 1.41-.59l7.78-7.78 2.81-2.81c.8-.78.8-2.07 0-2.86zM5.41 20L4 18.59l7.72-7.72 1.47 1.35L5.41 20z\"/>\n",
              "  </svg>\n",
              "      </button>\n",
              "      \n",
              "  <style>\n",
              "    .colab-df-container {\n",
              "      display:flex;\n",
              "      flex-wrap:wrap;\n",
              "      gap: 12px;\n",
              "    }\n",
              "\n",
              "    .colab-df-convert {\n",
              "      background-color: #E8F0FE;\n",
              "      border: none;\n",
              "      border-radius: 50%;\n",
              "      cursor: pointer;\n",
              "      display: none;\n",
              "      fill: #1967D2;\n",
              "      height: 32px;\n",
              "      padding: 0 0 0 0;\n",
              "      width: 32px;\n",
              "    }\n",
              "\n",
              "    .colab-df-convert:hover {\n",
              "      background-color: #E2EBFA;\n",
              "      box-shadow: 0px 1px 2px rgba(60, 64, 67, 0.3), 0px 1px 3px 1px rgba(60, 64, 67, 0.15);\n",
              "      fill: #174EA6;\n",
              "    }\n",
              "\n",
              "    [theme=dark] .colab-df-convert {\n",
              "      background-color: #3B4455;\n",
              "      fill: #D2E3FC;\n",
              "    }\n",
              "\n",
              "    [theme=dark] .colab-df-convert:hover {\n",
              "      background-color: #434B5C;\n",
              "      box-shadow: 0px 1px 3px 1px rgba(0, 0, 0, 0.15);\n",
              "      filter: drop-shadow(0px 1px 2px rgba(0, 0, 0, 0.3));\n",
              "      fill: #FFFFFF;\n",
              "    }\n",
              "  </style>\n",
              "\n",
              "      <script>\n",
              "        const buttonEl =\n",
              "          document.querySelector('#df-d95ab20f-7559-499b-92a1-814cbb78c74a button.colab-df-convert');\n",
              "        buttonEl.style.display =\n",
              "          google.colab.kernel.accessAllowed ? 'block' : 'none';\n",
              "\n",
              "        async function convertToInteractive(key) {\n",
              "          const element = document.querySelector('#df-d95ab20f-7559-499b-92a1-814cbb78c74a');\n",
              "          const dataTable =\n",
              "            await google.colab.kernel.invokeFunction('convertToInteractive',\n",
              "                                                     [key], {});\n",
              "          if (!dataTable) return;\n",
              "\n",
              "          const docLinkHtml = 'Like what you see? Visit the ' +\n",
              "            '<a target=\"_blank\" href=https://colab.research.google.com/notebooks/data_table.ipynb>data table notebook</a>'\n",
              "            + ' to learn more about interactive tables.';\n",
              "          element.innerHTML = '';\n",
              "          dataTable['output_type'] = 'display_data';\n",
              "          await google.colab.output.renderOutput(dataTable, element);\n",
              "          const docLink = document.createElement('div');\n",
              "          docLink.innerHTML = docLinkHtml;\n",
              "          element.appendChild(docLink);\n",
              "        }\n",
              "      </script>\n",
              "    </div>\n",
              "  </div>\n",
              "  "
            ]
          },
          "metadata": {},
          "execution_count": 6
        }
      ],
      "source": [
        "df.head()"
      ]
    },
    {
      "cell_type": "code",
      "execution_count": 7,
      "metadata": {
        "colab": {
          "base_uri": "https://localhost:8080/",
          "height": 300
        },
        "id": "gUFY-oZk_0QE",
        "outputId": "495a9d11-fb5a-4025-8683-e09dae00acd6"
      },
      "outputs": [
        {
          "output_type": "execute_result",
          "data": {
            "text/plain": [
              "                 id          age  hypertension  heart_disease  \\\n",
              "count   5110.000000  5110.000000   5110.000000    5110.000000   \n",
              "mean   36517.829354    43.226614      0.097456       0.054012   \n",
              "std    21161.721625    22.612647      0.296607       0.226063   \n",
              "min       67.000000     0.080000      0.000000       0.000000   \n",
              "25%    17741.250000    25.000000      0.000000       0.000000   \n",
              "50%    36932.000000    45.000000      0.000000       0.000000   \n",
              "75%    54682.000000    61.000000      0.000000       0.000000   \n",
              "max    72940.000000    82.000000      1.000000       1.000000   \n",
              "\n",
              "       avg_glucose_level          bmi       stroke  \n",
              "count        5110.000000  4909.000000  5110.000000  \n",
              "mean          106.147677    28.893237     0.048728  \n",
              "std            45.283560     7.854067     0.215320  \n",
              "min            55.120000    10.300000     0.000000  \n",
              "25%            77.245000    23.500000     0.000000  \n",
              "50%            91.885000    28.100000     0.000000  \n",
              "75%           114.090000    33.100000     0.000000  \n",
              "max           271.740000    97.600000     1.000000  "
            ],
            "text/html": [
              "\n",
              "  <div id=\"df-24c3ef15-778c-4bbf-8a3d-c28a499b39f3\">\n",
              "    <div class=\"colab-df-container\">\n",
              "      <div>\n",
              "<style scoped>\n",
              "    .dataframe tbody tr th:only-of-type {\n",
              "        vertical-align: middle;\n",
              "    }\n",
              "\n",
              "    .dataframe tbody tr th {\n",
              "        vertical-align: top;\n",
              "    }\n",
              "\n",
              "    .dataframe thead th {\n",
              "        text-align: right;\n",
              "    }\n",
              "</style>\n",
              "<table border=\"1\" class=\"dataframe\">\n",
              "  <thead>\n",
              "    <tr style=\"text-align: right;\">\n",
              "      <th></th>\n",
              "      <th>id</th>\n",
              "      <th>age</th>\n",
              "      <th>hypertension</th>\n",
              "      <th>heart_disease</th>\n",
              "      <th>avg_glucose_level</th>\n",
              "      <th>bmi</th>\n",
              "      <th>stroke</th>\n",
              "    </tr>\n",
              "  </thead>\n",
              "  <tbody>\n",
              "    <tr>\n",
              "      <th>count</th>\n",
              "      <td>5110.000000</td>\n",
              "      <td>5110.000000</td>\n",
              "      <td>5110.000000</td>\n",
              "      <td>5110.000000</td>\n",
              "      <td>5110.000000</td>\n",
              "      <td>4909.000000</td>\n",
              "      <td>5110.000000</td>\n",
              "    </tr>\n",
              "    <tr>\n",
              "      <th>mean</th>\n",
              "      <td>36517.829354</td>\n",
              "      <td>43.226614</td>\n",
              "      <td>0.097456</td>\n",
              "      <td>0.054012</td>\n",
              "      <td>106.147677</td>\n",
              "      <td>28.893237</td>\n",
              "      <td>0.048728</td>\n",
              "    </tr>\n",
              "    <tr>\n",
              "      <th>std</th>\n",
              "      <td>21161.721625</td>\n",
              "      <td>22.612647</td>\n",
              "      <td>0.296607</td>\n",
              "      <td>0.226063</td>\n",
              "      <td>45.283560</td>\n",
              "      <td>7.854067</td>\n",
              "      <td>0.215320</td>\n",
              "    </tr>\n",
              "    <tr>\n",
              "      <th>min</th>\n",
              "      <td>67.000000</td>\n",
              "      <td>0.080000</td>\n",
              "      <td>0.000000</td>\n",
              "      <td>0.000000</td>\n",
              "      <td>55.120000</td>\n",
              "      <td>10.300000</td>\n",
              "      <td>0.000000</td>\n",
              "    </tr>\n",
              "    <tr>\n",
              "      <th>25%</th>\n",
              "      <td>17741.250000</td>\n",
              "      <td>25.000000</td>\n",
              "      <td>0.000000</td>\n",
              "      <td>0.000000</td>\n",
              "      <td>77.245000</td>\n",
              "      <td>23.500000</td>\n",
              "      <td>0.000000</td>\n",
              "    </tr>\n",
              "    <tr>\n",
              "      <th>50%</th>\n",
              "      <td>36932.000000</td>\n",
              "      <td>45.000000</td>\n",
              "      <td>0.000000</td>\n",
              "      <td>0.000000</td>\n",
              "      <td>91.885000</td>\n",
              "      <td>28.100000</td>\n",
              "      <td>0.000000</td>\n",
              "    </tr>\n",
              "    <tr>\n",
              "      <th>75%</th>\n",
              "      <td>54682.000000</td>\n",
              "      <td>61.000000</td>\n",
              "      <td>0.000000</td>\n",
              "      <td>0.000000</td>\n",
              "      <td>114.090000</td>\n",
              "      <td>33.100000</td>\n",
              "      <td>0.000000</td>\n",
              "    </tr>\n",
              "    <tr>\n",
              "      <th>max</th>\n",
              "      <td>72940.000000</td>\n",
              "      <td>82.000000</td>\n",
              "      <td>1.000000</td>\n",
              "      <td>1.000000</td>\n",
              "      <td>271.740000</td>\n",
              "      <td>97.600000</td>\n",
              "      <td>1.000000</td>\n",
              "    </tr>\n",
              "  </tbody>\n",
              "</table>\n",
              "</div>\n",
              "      <button class=\"colab-df-convert\" onclick=\"convertToInteractive('df-24c3ef15-778c-4bbf-8a3d-c28a499b39f3')\"\n",
              "              title=\"Convert this dataframe to an interactive table.\"\n",
              "              style=\"display:none;\">\n",
              "        \n",
              "  <svg xmlns=\"http://www.w3.org/2000/svg\" height=\"24px\"viewBox=\"0 0 24 24\"\n",
              "       width=\"24px\">\n",
              "    <path d=\"M0 0h24v24H0V0z\" fill=\"none\"/>\n",
              "    <path d=\"M18.56 5.44l.94 2.06.94-2.06 2.06-.94-2.06-.94-.94-2.06-.94 2.06-2.06.94zm-11 1L8.5 8.5l.94-2.06 2.06-.94-2.06-.94L8.5 2.5l-.94 2.06-2.06.94zm10 10l.94 2.06.94-2.06 2.06-.94-2.06-.94-.94-2.06-.94 2.06-2.06.94z\"/><path d=\"M17.41 7.96l-1.37-1.37c-.4-.4-.92-.59-1.43-.59-.52 0-1.04.2-1.43.59L10.3 9.45l-7.72 7.72c-.78.78-.78 2.05 0 2.83L4 21.41c.39.39.9.59 1.41.59.51 0 1.02-.2 1.41-.59l7.78-7.78 2.81-2.81c.8-.78.8-2.07 0-2.86zM5.41 20L4 18.59l7.72-7.72 1.47 1.35L5.41 20z\"/>\n",
              "  </svg>\n",
              "      </button>\n",
              "      \n",
              "  <style>\n",
              "    .colab-df-container {\n",
              "      display:flex;\n",
              "      flex-wrap:wrap;\n",
              "      gap: 12px;\n",
              "    }\n",
              "\n",
              "    .colab-df-convert {\n",
              "      background-color: #E8F0FE;\n",
              "      border: none;\n",
              "      border-radius: 50%;\n",
              "      cursor: pointer;\n",
              "      display: none;\n",
              "      fill: #1967D2;\n",
              "      height: 32px;\n",
              "      padding: 0 0 0 0;\n",
              "      width: 32px;\n",
              "    }\n",
              "\n",
              "    .colab-df-convert:hover {\n",
              "      background-color: #E2EBFA;\n",
              "      box-shadow: 0px 1px 2px rgba(60, 64, 67, 0.3), 0px 1px 3px 1px rgba(60, 64, 67, 0.15);\n",
              "      fill: #174EA6;\n",
              "    }\n",
              "\n",
              "    [theme=dark] .colab-df-convert {\n",
              "      background-color: #3B4455;\n",
              "      fill: #D2E3FC;\n",
              "    }\n",
              "\n",
              "    [theme=dark] .colab-df-convert:hover {\n",
              "      background-color: #434B5C;\n",
              "      box-shadow: 0px 1px 3px 1px rgba(0, 0, 0, 0.15);\n",
              "      filter: drop-shadow(0px 1px 2px rgba(0, 0, 0, 0.3));\n",
              "      fill: #FFFFFF;\n",
              "    }\n",
              "  </style>\n",
              "\n",
              "      <script>\n",
              "        const buttonEl =\n",
              "          document.querySelector('#df-24c3ef15-778c-4bbf-8a3d-c28a499b39f3 button.colab-df-convert');\n",
              "        buttonEl.style.display =\n",
              "          google.colab.kernel.accessAllowed ? 'block' : 'none';\n",
              "\n",
              "        async function convertToInteractive(key) {\n",
              "          const element = document.querySelector('#df-24c3ef15-778c-4bbf-8a3d-c28a499b39f3');\n",
              "          const dataTable =\n",
              "            await google.colab.kernel.invokeFunction('convertToInteractive',\n",
              "                                                     [key], {});\n",
              "          if (!dataTable) return;\n",
              "\n",
              "          const docLinkHtml = 'Like what you see? Visit the ' +\n",
              "            '<a target=\"_blank\" href=https://colab.research.google.com/notebooks/data_table.ipynb>data table notebook</a>'\n",
              "            + ' to learn more about interactive tables.';\n",
              "          element.innerHTML = '';\n",
              "          dataTable['output_type'] = 'display_data';\n",
              "          await google.colab.output.renderOutput(dataTable, element);\n",
              "          const docLink = document.createElement('div');\n",
              "          docLink.innerHTML = docLinkHtml;\n",
              "          element.appendChild(docLink);\n",
              "        }\n",
              "      </script>\n",
              "    </div>\n",
              "  </div>\n",
              "  "
            ]
          },
          "metadata": {},
          "execution_count": 7
        }
      ],
      "source": [
        "df.describe()"
      ]
    },
    {
      "cell_type": "code",
      "execution_count": 8,
      "metadata": {
        "id": "GjBIXS7IAJqT"
      },
      "outputs": [],
      "source": [
        "df = df.drop(columns = ['id'])"
      ]
    },
    {
      "cell_type": "code",
      "execution_count": 9,
      "metadata": {
        "colab": {
          "base_uri": "https://localhost:8080/"
        },
        "id": "Ysxz9jDk_6lL",
        "outputId": "9aad3ebb-0a3a-49d4-9c74-1fa9de40b8c7"
      },
      "outputs": [
        {
          "output_type": "execute_result",
          "data": {
            "text/plain": [
              "gender                 0\n",
              "age                    0\n",
              "hypertension           0\n",
              "heart_disease          0\n",
              "ever_married           0\n",
              "work_type              0\n",
              "Residence_type         0\n",
              "avg_glucose_level      0\n",
              "bmi                  201\n",
              "smoking_status         0\n",
              "stroke                 0\n",
              "dtype: int64"
            ]
          },
          "metadata": {},
          "execution_count": 9
        }
      ],
      "source": [
        "df.isna().sum()"
      ]
    },
    {
      "cell_type": "code",
      "execution_count": 10,
      "metadata": {
        "id": "YCb5vuE2Ikn4",
        "outputId": "19a52b3d-d54a-47fb-8b2c-947ec739476e",
        "colab": {
          "base_uri": "https://localhost:8080/"
        }
      },
      "outputs": [
        {
          "output_type": "stream",
          "name": "stdout",
          "text": [
            "Average chance of stroke = 4.87%\n"
          ]
        }
      ],
      "source": [
        "average_chance = df['stroke'].mean()\n",
        "print(f'Average chance of stroke = {average_chance*100:.2f}%')"
      ]
    },
    {
      "cell_type": "code",
      "execution_count": 11,
      "metadata": {
        "id": "CkZoJN-aIkn7"
      },
      "outputs": [],
      "source": [
        "def compute_confidence_interval(value, target_column, chance_column, df, level_of_significance, tails = 2, compare = None):\n",
        "    if tails == 2:\n",
        "        alphaby2 = 1 - (level_of_significance/2)\n",
        "        if len(df[target_column]) < 30:\n",
        "            z = st.t.ppf(alphaby2)\n",
        "        else:\n",
        "            z = st.norm.ppf(alphaby2)\n",
        "        confidence_interval = (\n",
        "            (df[chance_column].mean() - (z*df[chance_column].std()/np.sqrt(len(df[chance_column])))),\n",
        "            (df[chance_column].mean() + (z*df[chance_column].std()/np.sqrt(len(df[chance_column])))),\n",
        "            )\n",
        "    else:\n",
        "        alpha = 1 - level_of_significance\n",
        "        if len(df[target_column]) < 30:\n",
        "            z = st.t.ppf(alpha)\n",
        "        else:\n",
        "            z = st.norm.ppf(alpha)\n",
        "        \n",
        "        if compare == 'lt':\n",
        "            confidence_interval = (\n",
        "                -np.inf,\n",
        "                (df[chance_column].mean() + (z*df[chance_column].std()/np.sqrt(len(df[chance_column])))),\n",
        "             )\n",
        "        else:\n",
        "            confidence_interval = (\n",
        "                (df[chance_column].mean() - (z*df[chance_column].std()/np.sqrt(len(df[chance_column])))),\n",
        "                np.inf\n",
        "             )\n",
        "    if (df[df[target_column] == value][chance_column].mean() < confidence_interval[1]) & \\\n",
        "        (df[df[target_column] == value][chance_column].mean() > confidence_interval[0]):\n",
        "        print(f'Sample mean of {chance_column} is {df[df[target_column] == value][chance_column].mean():.2f} \\\n",
        "and lies within confidence interval ({confidence_interval[0]:.2f},{confidence_interval[1]:.2f})')\n",
        "    else:\n",
        "        print(f'Sample mean of {chance_column} is {df[df[target_column] == value][chance_column].mean():.2f} \\\n",
        "and lies outside of confidence interval ({confidence_interval[0]:.2f},{confidence_interval[1]:.2f})')"
      ]
    },
    {
      "cell_type": "code",
      "execution_count": 12,
      "metadata": {
        "id": "YHvglwILIkn5"
      },
      "outputs": [],
      "source": [
        "def plot_chances(\n",
        "    target_column,\n",
        "    chance_column,\n",
        "    df,\n",
        "    labels = None,\n",
        "    x_tick_labels = None,\n",
        "    figsize  = (12, 8),\n",
        "    x_label = 'X',\n",
        "    y_label = 'Y',\n",
        "    title = 'Title',\n",
        "    title_fontweight = 'bold',\n",
        "    title_fontstyle = 'italic',\n",
        "    title_fontsize = 15,\n",
        "    ):\n",
        "    if labels is None:\n",
        "        labels = list(df[target_column].unique())\n",
        "    if x_tick_labels is None:\n",
        "        x_tick_labels = labels\n",
        "    fig, ax = plt.subplots(figsize = figsize, )\n",
        "    if isinstance(labels, tuple):\n",
        "        start = labels[0]\n",
        "        end = labels[1]\n",
        "        step = labels[2]\n",
        "        start_labels = np.arange(start, end, step)\n",
        "        for i in np.arange(len(start_labels)):\n",
        "            plt.bar(i, df[(df[target_column] > start_labels[i]) & (df[target_column] < (start_labels[i] + step))][chance_column].mean())\n",
        "        ax.set_xlabel(x_label)\n",
        "        ax.set_ylabel(y_label)\n",
        "        ax.set_xticks(np.arange(len(start_labels)))\n",
        "        x_tick_labels = [f'{i}-{i+step}' for i in start_labels]\n",
        "        ax.set_xticklabels(x_tick_labels)\n",
        "    else:\n",
        "        for i in np.arange(len(labels)):\n",
        "            plt.bar(i, df[df[target_column] == labels[i]][chance_column].mean())\n",
        "        \n",
        "        ax.set_xlabel(x_label)\n",
        "        ax.set_ylabel(y_label)\n",
        "        ax.set_xticks(np.arange(len(labels)))\n",
        "        if isinstance(x_tick_labels, dict):\n",
        "            x_tick_labels_list = [i for i in np.arange(len(labels))]\n",
        "            for i in labels:\n",
        "                x_tick_labels_list[labels.index(i)] = x_tick_labels[i]\n",
        "            ax.set_xticklabels(x_tick_labels_list)\n",
        "        else:\n",
        "            ax.set_xticklabels(x_tick_labels)\n",
        "\n",
        "    plt.title(title, fontweight = title_fontweight, fontstyle = title_fontstyle, fontsize = title_fontsize)\n",
        "    plt.show()"
      ]
    },
    {
      "cell_type": "code",
      "execution_count": 13,
      "metadata": {
        "id": "Qpwpgg0qIkn6",
        "outputId": "a5d4cf83-8d80-4d3f-d8f7-eb3b065ca370",
        "colab": {
          "base_uri": "https://localhost:8080/",
          "height": 352
        }
      },
      "outputs": [
        {
          "output_type": "display_data",
          "data": {
            "text/plain": [
              "<Figure size 576x360 with 1 Axes>"
            ],
            "image/png": "[encoded data removed]"
          },
          "metadata": {
            "needs_background": "light"
          }
        }
      ],
      "source": [
        "yesno = {\n",
        "    1 : 'Yes',\n",
        "    0 : 'No'\n",
        "}\n",
        "plot_chances('hypertension',\n",
        "chance_column = 'stroke',\n",
        "df = df,\n",
        "figsize = (8, 5),\n",
        "x_tick_labels = ['No', 'Yes'],\n",
        "x_label = 'Hypertension',\n",
        "y_label = 'Chance of stroke',\n",
        "title = 'Hypertension vs Chance of Stroke',\n",
        ")"
      ]
    },
    {
      "cell_type": "markdown",
      "metadata": {
        "id": "BkVWKQaSIkn9"
      },
      "source": [
        "Null hypothesis : H0 :- Stroke chance remains average for a person with hypertension\n",
        "\n",
        "Alternate hypothesis H1 :- Stroke chance dis above average for person with hypertension"
      ]
    },
    {
      "cell_type": "code",
      "execution_count": 14,
      "metadata": {
        "id": "arFH-CECIkn_",
        "outputId": "efb0ea16-eda0-41ca-f163-144c97883728",
        "colab": {
          "base_uri": "https://localhost:8080/"
        }
      },
      "outputs": [
        {
          "output_type": "stream",
          "name": "stdout",
          "text": [
            "Sample mean of stroke is 0.13 and lies outside of confidence interval (-inf,0.05)\n"
          ]
        }
      ],
      "source": [
        "compute_confidence_interval(1, 'hypertension', 'stroke', df, 0.05, 1, 'lt')"
      ]
    },
    {
      "cell_type": "markdown",
      "metadata": {
        "id": "q3YfhSMoIkoA"
      },
      "source": [
        "Since the stroke chance for those with hypertension is significantly above average, we reject null hypothesis.\n",
        "\n",
        "Hence, chance of stroke is high for people with hypertension"
      ]
    },
    {
      "cell_type": "code",
      "execution_count": 15,
      "metadata": {
        "id": "WmVI4v_YIkoB",
        "outputId": "c9de7eae-47f6-476b-fed4-594fa5a4000a",
        "colab": {
          "base_uri": "https://localhost:8080/",
          "height": 352
        }
      },
      "outputs": [
        {
          "output_type": "display_data",
          "data": {
            "text/plain": [
              "<Figure size 576x360 with 1 Axes>"
            ],
            "image/png": "[encoded data removed]"
          },
          "metadata": {
            "needs_background": "light"
          }
        }
      ],
      "source": [
        "yesno = {\n",
        "    1 : 'Yes',\n",
        "    0 : 'No'\n",
        "}\n",
        "plot_chances('heart_disease',\n",
        "chance_column = 'stroke',\n",
        "df = df,\n",
        "figsize = (8, 5),\n",
        "x_tick_labels = yesno,\n",
        "x_label = 'Heartdisease',\n",
        "y_label = 'Chance of stroke',\n",
        "title = 'Heartdisease vs Chance of Stroke',\n",
        ")"
      ]
    },
    {
      "cell_type": "markdown",
      "metadata": {
        "id": "o2MhqLJHIkoC"
      },
      "source": [
        "Null hypothesis : H0 :- Stroke chance remains average for a person with heart disease\n",
        "\n",
        "Alternate hypothesis : H1 :- Stroke chance is greater than average for person with heart disease"
      ]
    },
    {
      "cell_type": "code",
      "execution_count": 16,
      "metadata": {
        "id": "Hbf2pO1dIkoD",
        "outputId": "b8624c3f-ba4e-4d28-c4f0-6cbbcde5b628",
        "colab": {
          "base_uri": "https://localhost:8080/"
        }
      },
      "outputs": [
        {
          "output_type": "stream",
          "name": "stdout",
          "text": [
            "Sample mean of stroke is 0.17 and lies outside of confidence interval (-inf,0.05)\n"
          ]
        }
      ],
      "source": [
        "compute_confidence_interval(1, 'heart_disease', 'stroke', df, 0.05, 1, 'lt')"
      ]
    },
    {
      "cell_type": "markdown",
      "metadata": {
        "id": "NZF5tOj4IkoD"
      },
      "source": [
        "Since chance of stroke for those with heart disease is significantly great, we reject the null hypothesis\n",
        "\n",
        "Hence, chance of stroke is high for people who had heart disease"
      ]
    },
    {
      "cell_type": "code",
      "execution_count": 17,
      "metadata": {
        "id": "ipTbKSsWIkoE",
        "outputId": "9f61d50a-55a3-444d-8d96-660c6a8fbb14",
        "colab": {
          "base_uri": "https://localhost:8080/",
          "height": 352
        }
      },
      "outputs": [
        {
          "output_type": "display_data",
          "data": {
            "text/plain": [
              "<Figure size 576x360 with 1 Axes>"
            ],
            "image/png": "[encoded data removed]"
          },
          "metadata": {
            "needs_background": "light"
          }
        }
      ],
      "source": [
        "plot_chances('ever_married',\n",
        "chance_column = 'stroke',\n",
        "df = df,\n",
        "figsize = (8, 5),\n",
        "x_label = 'Ever Married',\n",
        "y_label = 'Chance of stroke',\n",
        "title = 'Marriage vs Chance of Stroke',\n",
        ")"
      ]
    },
    {
      "cell_type": "markdown",
      "metadata": {
        "id": "q0pZh0VDIkoE"
      },
      "source": [
        "Null hypothesis : H0 :- Stroke chance remains average for a person who has married once\n",
        "\n",
        "Alternate hypothesis : H1 :- Stroke chance does not remain average for person who has married once"
      ]
    },
    {
      "cell_type": "code",
      "execution_count": 18,
      "metadata": {
        "id": "_VDDSlVYIkoF",
        "outputId": "29e26f3a-ab4d-4586-936a-0048559cad53",
        "colab": {
          "base_uri": "https://localhost:8080/"
        }
      },
      "outputs": [
        {
          "output_type": "stream",
          "name": "stdout",
          "text": [
            "Sample mean of stroke is 0.07 and lies outside of confidence interval (0.04,0.05)\n"
          ]
        }
      ],
      "source": [
        "compute_confidence_interval('Yes', 'ever_married', 'stroke', df, 0.05)"
      ]
    },
    {
      "cell_type": "markdown",
      "metadata": {
        "id": "biy3t0ISIkoF"
      },
      "source": [
        "Since chance of stroke for those who married atleast once is significantly great, we reject the null hypothesis\n",
        "\n",
        "Hence, chance of stroke is high for people who have married once"
      ]
    },
    {
      "cell_type": "code",
      "execution_count": 19,
      "metadata": {
        "id": "jjgSOr7iIkoF",
        "outputId": "cbe3e8fe-8df0-4001-9617-3b04dce5f206",
        "colab": {
          "base_uri": "https://localhost:8080/",
          "height": 353
        }
      },
      "outputs": [
        {
          "output_type": "display_data",
          "data": {
            "text/plain": [
              "<Figure size 576x360 with 1 Axes>"
            ],
            "image/png": "[encoded data removed]"
          },
          "metadata": {
            "needs_background": "light"
          }
        }
      ],
      "source": [
        "plot_chances('work_type',\n",
        "chance_column = 'stroke',\n",
        "df = df,\n",
        "figsize = (8, 5),\n",
        "x_label = 'Work type',\n",
        "y_label = 'Chance of stroke',\n",
        "title = 'Work type vs Chance of Stroke',\n",
        ")"
      ]
    },
    {
      "cell_type": "markdown",
      "metadata": {
        "id": "cEBJHHGGIkoG"
      },
      "source": [
        "Null hypothesis : H0 :- Stroke chance remains average for a person who is self-employed\n",
        "\n",
        "Alternate hypothesis : H1 :- Stroke chance does not remain average for person who is self-employed"
      ]
    },
    {
      "cell_type": "code",
      "execution_count": 20,
      "metadata": {
        "id": "eMi7LF5JIkoG",
        "outputId": "a096e842-fda3-41b1-a028-ef43b17c0ba7",
        "colab": {
          "base_uri": "https://localhost:8080/"
        }
      },
      "outputs": [
        {
          "output_type": "stream",
          "name": "stdout",
          "text": [
            "Sample mean of stroke is 0.08 and lies outside of confidence interval (0.04,0.05)\n"
          ]
        }
      ],
      "source": [
        "compute_confidence_interval('Self-employed', 'work_type', 'stroke', df, 0.05)"
      ]
    },
    {
      "cell_type": "markdown",
      "metadata": {
        "id": "UQYngBS9IkoG"
      },
      "source": [
        "Since chance of stroke for those who are self-employed is significantly great, we reject the null hypothesis\n",
        "\n",
        "Hence, chance of stroke is high for people who are self-employed\n"
      ]
    },
    {
      "cell_type": "markdown",
      "metadata": {
        "id": "IGnqNGm3IkoH"
      },
      "source": [
        "Null hypothesis : H0 :- Stroke chance remains average for a person who has private job\n",
        "\n",
        "Alternate hypothesis : H1 :- Stroke chance does not remain average for person who has private job"
      ]
    },
    {
      "cell_type": "code",
      "execution_count": 21,
      "metadata": {
        "id": "XcdcGO3aIkoH",
        "outputId": "b7ad696c-e017-4f6c-92be-a179f3370ec4",
        "colab": {
          "base_uri": "https://localhost:8080/"
        }
      },
      "outputs": [
        {
          "output_type": "stream",
          "name": "stdout",
          "text": [
            "Sample mean of stroke is 0.05 and lies within confidence interval (0.04,0.05)\n"
          ]
        }
      ],
      "source": [
        "compute_confidence_interval('Private', 'work_type', 'stroke', df, 0.05)"
      ]
    },
    {
      "cell_type": "markdown",
      "metadata": {
        "id": "RwyGmdUwIkoH"
      },
      "source": [
        "Since chance of stroke for those who have private job is within confidence interval, we accept the null hypothesis\n",
        "\n",
        "Hence, chance of stroke is normal for people who have private job\n"
      ]
    },
    {
      "cell_type": "markdown",
      "metadata": {
        "id": "UAsNbvDtIkoH"
      },
      "source": [
        "Since chance of stroke for those with government job is same as that of those with private job, we conclude that the chance of stroke for the former is 'normal'"
      ]
    },
    {
      "cell_type": "code",
      "execution_count": 22,
      "metadata": {
        "id": "7b6dl2iBIkoI",
        "outputId": "4f4fd8e1-acae-4d78-d72d-ced2219c31a1",
        "colab": {
          "base_uri": "https://localhost:8080/",
          "height": 352
        }
      },
      "outputs": [
        {
          "output_type": "display_data",
          "data": {
            "text/plain": [
              "<Figure size 576x360 with 1 Axes>"
            ],
            "image/png": "[encoded data removed]"
          },
          "metadata": {
            "needs_background": "light"
          }
        }
      ],
      "source": [
        "plot_chances('Residence_type',\n",
        "chance_column = 'stroke',\n",
        "df = df,\n",
        "figsize = (8, 5),\n",
        "x_label = 'Residence type',\n",
        "y_label = 'Chance of stroke',\n",
        "title = 'Residence type vs Chance of Stroke',\n",
        ")"
      ]
    },
    {
      "cell_type": "markdown",
      "metadata": {
        "id": "-zSLoyCWIkoI"
      },
      "source": [
        "Null hypothesis : H0 :- Stroke chance remains average for a person who is from Urban area\n",
        "\n",
        "Alternate hypothesis : H1 :- Stroke chance is not average for person who is from Urban area"
      ]
    },
    {
      "cell_type": "code",
      "execution_count": 23,
      "metadata": {
        "id": "sHm6GZDkIkoI",
        "outputId": "90683643-3697-44f0-9afa-dcc4f2c1cd4a",
        "colab": {
          "base_uri": "https://localhost:8080/"
        }
      },
      "outputs": [
        {
          "output_type": "stream",
          "name": "stdout",
          "text": [
            "Sample mean of stroke is nan and lies outside of confidence interval (0.04,0.05)\n"
          ]
        }
      ],
      "source": [
        "compute_confidence_interval('Urban', 'work_type', 'stroke', df, 0.05)"
      ]
    },
    {
      "cell_type": "markdown",
      "metadata": {
        "id": "w603SEfmIkoJ"
      },
      "source": [
        "Since chance of stroke for the person residing in urban area is within confidence interval, we accept the null hypothesis\n",
        "\n",
        "Hence, chance of stroke is high for people from urban area"
      ]
    },
    {
      "cell_type": "code",
      "execution_count": 24,
      "metadata": {
        "id": "_BAouU0wIkoJ",
        "outputId": "de955e49-49e3-4afa-eb0e-9bf39182f4df",
        "colab": {
          "base_uri": "https://localhost:8080/",
          "height": 352
        }
      },
      "outputs": [
        {
          "output_type": "display_data",
          "data": {
            "text/plain": [
              "<Figure size 576x360 with 1 Axes>"
            ],
            "image/png": "[encoded data removed]"
          },
          "metadata": {
            "needs_background": "light"
          }
        }
      ],
      "source": [
        "plot_chances('smoking_status',\n",
        "chance_column = 'stroke',\n",
        "df = df,\n",
        "figsize = (8, 5),\n",
        "x_label = 'Smoking Status',\n",
        "y_label = 'Chance of stroke',\n",
        "title = 'Smoking Status vs Chance of Stroke',\n",
        ")"
      ]
    },
    {
      "cell_type": "markdown",
      "metadata": {
        "id": "UpIEQRvVIkoK"
      },
      "source": [
        "Null hypothesis : H0 :- Stroke chance remains average for a person who has formerly smoked\n",
        "\n",
        "Alternate hypothesis : H1 :- Stroke chance is above average for person who has formerly smoked"
      ]
    },
    {
      "cell_type": "code",
      "execution_count": 25,
      "metadata": {
        "id": "xBxfUsAxIkoK",
        "outputId": "e762cce3-ac3b-4579-c7db-9d7e0ba35884",
        "colab": {
          "base_uri": "https://localhost:8080/"
        }
      },
      "outputs": [
        {
          "output_type": "stream",
          "name": "stdout",
          "text": [
            "Sample mean of stroke is 0.08 and lies outside of confidence interval (-inf,0.05)\n"
          ]
        }
      ],
      "source": [
        "compute_confidence_interval('formerly smoked', 'smoking_status', 'stroke', df, 0.05, 1, 'lt')"
      ]
    },
    {
      "cell_type": "markdown",
      "metadata": {
        "id": "KBfcT9knIkoK"
      },
      "source": [
        "Since chance of stroke for those who have formerly smoked is significantly great, we reject the null hypothesis\n",
        "\n",
        "Hence, chance of stroke is high for people who have formerly smoked"
      ]
    },
    {
      "cell_type": "markdown",
      "metadata": {
        "id": "tniUkSpvIkoK"
      },
      "source": [
        "Null hypothesis : H0 :- Stroke chance remains average for a person who are currently smoking\n",
        "\n",
        "Alternate hypothesis : H1 :- Stroke chance is above average for person who are currently smoking"
      ]
    },
    {
      "cell_type": "code",
      "execution_count": 26,
      "metadata": {
        "id": "6sKppDJbIkoL",
        "outputId": "e04f0d80-3c98-4f65-d421-29491c60641a",
        "colab": {
          "base_uri": "https://localhost:8080/"
        }
      },
      "outputs": [
        {
          "output_type": "stream",
          "name": "stdout",
          "text": [
            "Sample mean of stroke is 0.05 and lies within confidence interval (-inf,0.05)\n"
          ]
        }
      ],
      "source": [
        "compute_confidence_interval('smokes', 'smoking_status', 'stroke', df, 0.05, 1, 'lt')"
      ]
    },
    {
      "cell_type": "markdown",
      "metadata": {
        "id": "IGHU4oFqIkoL"
      },
      "source": [
        "Since chance of stroke for those who are currently smoking is within confidence interval, we accept the null hypothesis"
      ]
    },
    {
      "cell_type": "markdown",
      "metadata": {
        "id": "S4DikUfYIkoL"
      },
      "source": [
        "Since chance of stroke for Unknown and never smoked is less than those who are currently smoking, null hypothesis is accepted.\n",
        "\n",
        "We conclude that for those:\n",
        "\n",
        "(i) who never smoke, chance of stroke is average\n",
        "\n",
        "(ii) whose smoking details are not known, chance of stroke is least."
      ]
    },
    {
      "cell_type": "code",
      "execution_count": 27,
      "metadata": {
        "id": "9aApNVQyIkoL",
        "outputId": "23a88484-6789-4cd8-f481-722427c601d7",
        "colab": {
          "base_uri": "https://localhost:8080/",
          "height": 352
        }
      },
      "outputs": [
        {
          "output_type": "display_data",
          "data": {
            "text/plain": [
              "<Figure size 576x360 with 1 Axes>"
            ],
            "image/png": "[encoded data removed]"
          },
          "metadata": {
            "needs_background": "light"
          }
        }
      ],
      "source": [
        "plot_chances('age',\n",
        "chance_column = 'stroke',\n",
        "df = df,\n",
        "figsize = (8, 5),\n",
        "labels = (0, 100, 10),\n",
        "x_label = 'Age (in years)',\n",
        "y_label = 'Chance of stroke',\n",
        "title = 'Age vs Chance of Stroke',\n",
        ")"
      ]
    },
    {
      "cell_type": "markdown",
      "metadata": {
        "id": "_yL2ycdNIkoM"
      },
      "source": [
        "Since the average chance of stroke lies in (0.04, 0.05), we see that: \n",
        "\n",
        "(i) chance of stroke is significantly high for those above 50 years in age.\n",
        "\n",
        "(ii)chance of stroke is significantly low for those aged below 50 years"
      ]
    },
    {
      "cell_type": "code",
      "execution_count": 28,
      "metadata": {
        "id": "CxGCAVGZIkoM",
        "outputId": "41c424dd-50a1-4e9d-e2c3-6b8073c9f70f",
        "colab": {
          "base_uri": "https://localhost:8080/",
          "height": 352
        }
      },
      "outputs": [
        {
          "output_type": "display_data",
          "data": {
            "text/plain": [
              "<Figure size 576x360 with 1 Axes>"
            ],
            "image/png": "[encoded data removed]"
          },
          "metadata": {
            "needs_background": "light"
          }
        }
      ],
      "source": [
        "plot_chances('bmi',\n",
        "chance_column = 'stroke',\n",
        "df = df,\n",
        "figsize = (8, 5),\n",
        "labels = (15, 60, 5),\n",
        "x_label = 'BMI',\n",
        "y_label = 'Chance of stroke',\n",
        "title = 'BMI vs Chance of Stroke',\n",
        ")"
      ]
    },
    {
      "cell_type": "markdown",
      "metadata": {
        "id": "1j3rXdZ_IkoM"
      },
      "source": [
        "Since the average chance of stroke lies in (0.04, 0.05), we see that: \n",
        "\n",
        "(i) chance of stroke is significantly high for those above 45 years in age.\n",
        "\n",
        "(ii)chance of stroke is significantly low for those aged below 25 years\n",
        "\n",
        "(iii)minima at 50-60 can be explained by low amount of data for those with bmi above 50"
      ]
    },
    {
      "cell_type": "code",
      "execution_count": 29,
      "metadata": {
        "id": "7Em5uAG0IkoN",
        "outputId": "fd831217-9dca-416e-acc3-6f8ab96f4932",
        "colab": {
          "base_uri": "https://localhost:8080/"
        }
      },
      "outputs": [
        {
          "output_type": "stream",
          "name": "stdout",
          "text": [
            "Percentage of people with BMI > 50 : 1.55%\n",
            "Percentage of people with 25 < BMI < 50 : 63.07%\n",
            "Percentage of people with BMI < 25 : 30.92%\n"
          ]
        }
      ],
      "source": [
        "print(f\"Percentage of people with BMI > 50 : {(df[df['bmi'] > 50].shape[0]/df.shape[0])*100:.2f}%\")\n",
        "print(f\"Percentage of people with 25 < BMI < 50 : {(df[(df['bmi'] > 25) & (df['bmi'] < 50)].shape[0]/df.shape[0])*100:.2f}%\")\n",
        "print(f\"Percentage of people with BMI < 25 : {(df[df['bmi'] < 25].shape[0]/df.shape[0])*100:.2f}%\")"
      ]
    },
    {
      "cell_type": "markdown",
      "metadata": {
        "id": "baE4znfWIkoN"
      },
      "source": [
        "Clearly, there is low amount of data for the people whose bmi is greater than 50"
      ]
    },
    {
      "cell_type": "code",
      "execution_count": 30,
      "metadata": {
        "id": "KQudyf7UIkoN",
        "outputId": "ccd11416-3b01-415e-deac-527f70cd27a7",
        "colab": {
          "base_uri": "https://localhost:8080/",
          "height": 352
        }
      },
      "outputs": [
        {
          "output_type": "display_data",
          "data": {
            "text/plain": [
              "<Figure size 576x360 with 1 Axes>"
            ],
            "image/png": "[encoded data removed]"
          },
          "metadata": {
            "needs_background": "light"
          }
        }
      ],
      "source": [
        "plot_chances('avg_glucose_level',\n",
        "chance_column = 'stroke',\n",
        "df = df,\n",
        "figsize = (8, 5),\n",
        "labels = (30, 330, 30),\n",
        "x_label = 'Average glucose level (in mg/dl)',\n",
        "y_label = 'Chance of stroke',\n",
        "title = 'Average glucose level vs Chance of Stroke',\n",
        ")"
      ]
    },
    {
      "cell_type": "markdown",
      "metadata": {
        "id": "Nwvc1j1cIkoO"
      },
      "source": [
        "Since the average chance of stroke lies in (0.04, 0.05), we see that: \n",
        "\n",
        "(i) chance of stroke is significantly high for those with mean glucose levels above 270 mg/dl\n",
        "\n",
        "(ii)chance of stroke is significantly low for those with mean glucose levels below 270 mg/dl"
      ]
    }
  ]
}