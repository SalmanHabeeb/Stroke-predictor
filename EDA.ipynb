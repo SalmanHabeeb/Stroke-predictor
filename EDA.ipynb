{
  "nbformat": 4,
  "nbformat_minor": 0,
  "metadata": {
    "colab": {
      "name": "Untitled",
      "provenance": [],
      "authorship_tag": "ABX9TyNv8PE8CirqN0wxv/ZlJrmo"
    },
    "kernelspec": {
      "name": "python3",
      "display_name": "Python 3"
    },
    "language_info": {
      "name": "python"
    }
  },
  "cells": [
    {
      "cell_type": "code",
      "source": [
        "# # # Copyright (C) 2022  Syed Salman Habeeb Quadri\n",
        "# # # https://github.com/SalmanHabeeb/Stroke-predictor/blob/main/License%20Notice.md"
      ],
      "metadata": {
        "id": "mRPKire7egYP"
      },
      "execution_count": 1,
      "outputs": []
    },
    {
      "cell_type": "markdown",
      "source": [
        "# Exploratory data analysis of Stroke for stroke prediction dataset\n",
        "\n",
        "## Import required packages"
      ],
      "metadata": {
        "id": "k0rmp4HrmlG0"
      }
    },
    {
      "cell_type": "code",
      "execution_count": 1,
      "metadata": {
        "id": "9p9oSR3wIkno"
      },
      "outputs": [],
      "source": [
        "# !pip3 install numpy==1.21.6\n",
        "# !pip3 install pandas==1.3.5\n",
        "# !pip3 install matplotlib==3.2.2\n",
        "# !pip3 install scipy==1.4.1"
      ]
    },
    {
      "cell_type": "code",
      "source": [
        "import numpy as np\n",
        "import pandas as pd\n",
        "import matplotlib.pyplot as plt\n",
        "import scipy.stats as st"
      ],
      "metadata": {
        "id": "QyZXRKqjeqJP"
      },
      "execution_count": 2,
      "outputs": []
    },
    {
      "cell_type": "markdown",
      "source": [
        "## Define necessary functions."
      ],
      "metadata": {
        "id": "JKwoJSlnrSIS"
      }
    },
    {
      "cell_type": "code",
      "source": [
        "def plot_pie_value_count(target_column, df, label_dict = None, autopct = '%1.1f%%', title = 'Chart', title_fontweight = 'bold', \n",
        "                         title_fontstyle = 'italic', title_fontsize  = 14):\n",
        "    labels = []\n",
        "    if isinstance(label_dict, dict):\n",
        "        for i in range(df[target_column].value_counts().shape[0]):\n",
        "            labels.append(label_dict[df[target_column].value_counts().index[i]])\n",
        "    elif label_dict is None:\n",
        "        labels = df[target_column].value_counts().index\n",
        "    else:\n",
        "        raise NotImplementedError('Pass a Dictionary or None')\n",
        "    plt.pie(df[target_column].value_counts(), labels = labels, autopct = autopct)\n",
        "    plt.title(title, fontsize = title_fontsize, fontweight = title_fontweight, fontstyle = title_fontstyle)\n",
        "    plt.show()"
      ],
      "metadata": {
        "id": "VyZn0E9a9IwB",
        "execution": {
          "iopub.status.busy": "2022-07-20T07:09:40.441695Z",
          "iopub.execute_input": "2022-07-20T07:09:40.442483Z",
          "iopub.status.idle": "2022-07-20T07:09:40.454548Z",
          "shell.execute_reply.started": "2022-07-20T07:09:40.442428Z",
          "shell.execute_reply": "2022-07-20T07:09:40.453222Z"
        },
        "trusted": true
      },
      "execution_count": 3,
      "outputs": []
    },
    {
      "cell_type": "code",
      "source": [
        "def compute_normal_confidence_interval(value, target_column, chance_column, df, level_of_significance, tails = 2, compare = None):\n",
        "    '''\n",
        "        Input:- value                 : unique value denoting an event which needs to be correlated with that of event in chance_column\n",
        "                target_column         : (string type) The name of column which contains the event which needs to be correlated with that of \n",
        "                                        event in chance_column\n",
        "                chance_column         : (string type) Name of Pandas DataFrame column containing the boolean values for the occurance of event.\n",
        "                                        The mean of the column gives the chance of the event.\n",
        "                df                    : Pandas DataFrame, contains both target_column and chance_column\n",
        "                level_of_significance : (float type) The level of significance at which the normal confidence interval is computed.\n",
        "                tails                 : (int type) Signigfies whether the confidence interval is one-sided (e.g., (-inf, 1)) or two-sided\n",
        "                                        (e.g., (2, 5))\n",
        "                compare               : (string type) If the interval is one-sided(i.e., tails = 1) then this parameter specifies whether it is\n",
        "                                         hand side or left hand side.\n",
        "\n",
        "        The function takes a unique value belonging to target_column, computes the chance of occurance of boolean event from chance_column,\n",
        "        and returns the normal confidence interval with given level of significance and given no. of tails for distribution.\n",
        "        Here, the assumption is that the distribution of sample mean is normal, i.e., either the underlying distribution of chance_column\n",
        "        is normal, or the number of elements inside chance column are normal.\n",
        "\n",
        "        Displays the confidence intervals computed, and also whether the chance of occurance of second event given the first event has occured\n",
        "        lies within the confidence interval.\n",
        "    '''\n",
        "    \n",
        "    if isinstance(value, list) | isinstance(value, tuple):\n",
        "        mask = (df[target_column] < value[1]) & (df[target_column] > value[0])\n",
        "    else:\n",
        "        mask = (df[target_column] == value)\n",
        "        \n",
        "    sample_variance_of_difference = np.sqrt((df[chance_column].var()/len(df[chance_column])) + \\\n",
        "    (df[mask][chance_column].var()/len(df[mask][chance_column])))\n",
        "    if tails == 2:\n",
        "        alphaby2 = 1 - (level_of_significance/2)\n",
        "        z = st.norm.ppf(alphaby2)\n",
        "        confidence_interval = (\n",
        "            df[chance_column].mean() - (z*sample_variance_of_difference),\n",
        "            df[chance_column].mean() + (z*sample_variance_of_difference),\n",
        "            )\n",
        "    else:\n",
        "        alpha = 1 - level_of_significance\n",
        "        z = st.norm.ppf(alpha)\n",
        "        \n",
        "        if compare == 'lt':\n",
        "            confidence_interval = (\n",
        "                -np.inf,\n",
        "                df[chance_column].mean() + (z*sample_variance_of_difference),\n",
        "             )\n",
        "        else:\n",
        "            confidence_interval = (\n",
        "                df[chance_column].mean() - (z*sample_variance_of_difference),\n",
        "                np.inf\n",
        "             )\n",
        "    if isinstance(value, list) | isinstance(value, tuple):\n",
        "        representation = f\"range {value}\"\n",
        "    else:\n",
        "        representation = f\"value {value}\"\n",
        "    if (df[mask][chance_column].mean() < confidence_interval[1]) & \\\n",
        "        (df[mask][chance_column].mean() > confidence_interval[0]):\n",
        "        print(f'Sample mean of {chance_column} for {representation} in {target_column} column is {df[mask][chance_column].mean():.2f} \\\n",
        "and lies within confidence interval ({confidence_interval[0]:.2f},{confidence_interval[1]:.2f})')\n",
        "        \n",
        "    else:\n",
        "        print(f'Sample mean of {chance_column} for {representation} in {target_column} column is {df[mask][chance_column].mean():.2f} \\\n",
        "and lies outside of confidence interval ({confidence_interval[0]:.2f},{confidence_interval[1]:.2f})')"
      ],
      "metadata": {
        "id": "CkZoJN-aIkn7",
        "execution": {
          "iopub.status.busy": "2022-07-20T07:09:40.457289Z",
          "iopub.execute_input": "2022-07-20T07:09:40.458546Z",
          "iopub.status.idle": "2022-07-20T07:09:40.599772Z",
          "shell.execute_reply.started": "2022-07-20T07:09:40.458483Z",
          "shell.execute_reply": "2022-07-20T07:09:40.598887Z"
        },
        "trusted": true
      },
      "execution_count": 4,
      "outputs": []
    },
    {
      "cell_type": "code",
      "source": [
        "def plot_chances(\n",
        "    target_column,\n",
        "    chance_column,\n",
        "    df,\n",
        "    labels = None,\n",
        "    x_tick_labels = None,\n",
        "    figsize  = (12, 8),\n",
        "    x_label = 'X',\n",
        "    y_label = 'Y',\n",
        "    title = 'Title',\n",
        "    title_fontweight = 'bold',\n",
        "    title_fontstyle = 'italic',\n",
        "    title_fontsize = 15,\n",
        "    ):\n",
        "    '''\n",
        "        Input:- target_column    : (string type) Name of column whose events are to be plotted on x-axis\n",
        "                chance_column    : (string type) Name of column which denotes occurance of single event using 0 and 1. Conditional \n",
        "                                   probability of this column is to plotted.\n",
        "                df               : (Pandas DataFrame type) Dataframe which contains target_column and chance_column as columns\n",
        "                labels           : (tuple or None type) This contain the arguments for range object. This is provided to give labels\n",
        "                                   in case of continuous numerical data in target_column.\n",
        "                x_tick_labels    : (dict or None type) It is a dictionary mapping unique values of target_column with custom labels we\n",
        "                                   want as x-tick labels\n",
        "                figsize          : (tuple of int) It contains the size of figure we want for the plot\n",
        "                x_label          : (string type) Denotes label for x-axis\n",
        "                y_label          : (string type) Denotes label for y-axis\n",
        "                title            : (string type) Denotes the title of plot\n",
        "                title_fontweight : (string type) Used to set the fontweight argument of plt.title()\n",
        "                title_fontstyle  : (string type) Used to set the fontstyle argument of plt.title()\n",
        "                title_fontsize   : (string type) Used to set the fontsize argument of plt.title()\n",
        "\n",
        "        Computes the coonditional probability of occurance of event represented in chance_column, given that a unique event from \n",
        "        target_column took place.\n",
        "\n",
        "        Displays matplotlib bar plots of the computed probability. The probability is plotted along y-axis while the events from \n",
        "        target_column are along x_axis.\n",
        "    '''\n",
        "    if labels is None:\n",
        "        labels = list(df[target_column].unique())\n",
        "    if x_tick_labels is None:\n",
        "        x_tick_labels = labels\n",
        "    fig, ax = plt.subplots(figsize = figsize, )\n",
        "    if isinstance(labels, tuple):\n",
        "        start = labels[0]\n",
        "        end = labels[1]\n",
        "        step = labels[2]\n",
        "        start_labels = np.arange(start, end, step)\n",
        "        for i in np.arange(len(start_labels)):\n",
        "            plt.bar(i, df[(df[target_column] > start_labels[i]) & (df[target_column] < (start_labels[i] + step))][chance_column].mean())\n",
        "        ax.set_xlabel(x_label)\n",
        "        ax.set_ylabel(y_label)\n",
        "        ax.set_xticks(np.arange(len(start_labels)))\n",
        "        x_tick_labels = [f'{i}-{i+step}' for i in start_labels]\n",
        "        ax.set_xticklabels(x_tick_labels)\n",
        "    else:\n",
        "        for i in np.arange(len(labels)):\n",
        "            plt.bar(i, df[df[target_column] == labels[i]][chance_column].mean())\n",
        "        \n",
        "        ax.set_xlabel(x_label)\n",
        "        ax.set_ylabel(y_label)\n",
        "        ax.set_xticks(np.arange(len(labels)))\n",
        "        if isinstance(x_tick_labels, dict):\n",
        "            x_tick_labels_list = [i for i in np.arange(len(labels))]\n",
        "            for i in labels:\n",
        "                x_tick_labels_list[labels.index(i)] = x_tick_labels[i]\n",
        "            ax.set_xticklabels(x_tick_labels_list)\n",
        "        else:\n",
        "            ax.set_xticklabels(x_tick_labels)\n",
        "\n",
        "    plt.title(title, fontweight = title_fontweight, fontstyle = title_fontstyle, fontsize = title_fontsize)\n",
        "    plt.show()"
      ],
      "metadata": {
        "id": "YHvglwILIkn5",
        "execution": {
          "iopub.status.busy": "2022-07-20T07:09:40.601451Z",
          "iopub.execute_input": "2022-07-20T07:09:40.602339Z",
          "iopub.status.idle": "2022-07-20T07:09:40.619675Z",
          "shell.execute_reply.started": "2022-07-20T07:09:40.602296Z",
          "shell.execute_reply": "2022-07-20T07:09:40.618741Z"
        },
        "trusted": true
      },
      "execution_count": 5,
      "outputs": []
    },
    {
      "cell_type": "markdown",
      "source": [
        "## Read the dataset"
      ],
      "metadata": {
        "id": "c4endywamwa5"
      }
    },
    {
      "cell_type": "code",
      "source": [
        "content = \"https://raw.githubusercontent.com/SalmanHabeeb/Stroke-predictor/main/dataset/healthcare-dataset-stroke-data.csv\"\n",
        "df = pd.read_csv(content)"
      ],
      "metadata": {
        "id": "QBmQuZ6-NyBU",
        "execution": {
          "iopub.status.busy": "2022-07-20T07:09:40.622116Z",
          "iopub.execute_input": "2022-07-20T07:09:40.623204Z",
          "iopub.status.idle": "2022-07-20T07:09:40.651703Z",
          "shell.execute_reply.started": "2022-07-20T07:09:40.623160Z",
          "shell.execute_reply": "2022-07-20T07:09:40.650474Z"
        },
        "trusted": true
      },
      "execution_count": 6,
      "outputs": []
    },
    {
      "cell_type": "markdown",
      "source": [
        "## Let's explore the stroke prediction dataset"
      ],
      "metadata": {
        "id": "36RP5sKTm4Hm"
      }
    },
    {
      "cell_type": "code",
      "source": [
        "df.columns"
      ],
      "metadata": {
        "id": "sgZ7GGl5OCfi",
        "execution": {
          "iopub.status.busy": "2022-07-20T07:09:40.653158Z",
          "iopub.execute_input": "2022-07-20T07:09:40.653748Z",
          "iopub.status.idle": "2022-07-20T07:09:40.664106Z",
          "shell.execute_reply.started": "2022-07-20T07:09:40.653685Z",
          "shell.execute_reply": "2022-07-20T07:09:40.662744Z"
        },
        "trusted": true,
        "colab": {
          "base_uri": "https://localhost:8080/"
        },
        "outputId": "062d82ea-ce4f-4b1a-9dba-11a32a3dcfc6"
      },
      "execution_count": 7,
      "outputs": [
        {
          "output_type": "execute_result",
          "data": {
            "text/plain": [
              "Index(['id', 'gender', 'age', 'hypertension', 'heart_disease', 'ever_married',\n",
              "       'work_type', 'Residence_type', 'avg_glucose_level', 'bmi',\n",
              "       'smoking_status', 'stroke'],\n",
              "      dtype='object')"
            ]
          },
          "metadata": {},
          "execution_count": 7
        }
      ]
    },
    {
      "cell_type": "code",
      "source": [
        "df.head()"
      ],
      "metadata": {
        "id": "TeLNZNeL_yXM",
        "execution": {
          "iopub.status.busy": "2022-07-20T07:09:40.665485Z",
          "iopub.execute_input": "2022-07-20T07:09:40.665829Z",
          "iopub.status.idle": "2022-07-20T07:09:40.690886Z",
          "shell.execute_reply.started": "2022-07-20T07:09:40.665801Z",
          "shell.execute_reply": "2022-07-20T07:09:40.690087Z"
        },
        "trusted": true,
        "colab": {
          "base_uri": "https://localhost:8080/",
          "height": 250
        },
        "outputId": "e85bbbd2-c60c-4a3e-d000-4e3c513dd9f3"
      },
      "execution_count": 8,
      "outputs": [
        {
          "output_type": "execute_result",
          "data": {
            "text/plain": [
              "      id  gender   age  hypertension  heart_disease ever_married  \\\n",
              "0   9046    Male  67.0             0              1          Yes   \n",
              "1  51676  Female  61.0             0              0          Yes   \n",
              "2  31112    Male  80.0             0              1          Yes   \n",
              "3  60182  Female  49.0             0              0          Yes   \n",
              "4   1665  Female  79.0             1              0          Yes   \n",
              "\n",
              "       work_type Residence_type  avg_glucose_level   bmi   smoking_status  \\\n",
              "0        Private          Urban             228.69  36.6  formerly smoked   \n",
              "1  Self-employed          Rural             202.21   NaN     never smoked   \n",
              "2        Private          Rural             105.92  32.5     never smoked   \n",
              "3        Private          Urban             171.23  34.4           smokes   \n",
              "4  Self-employed          Rural             174.12  24.0     never smoked   \n",
              "\n",
              "   stroke  \n",
              "0       1  \n",
              "1       1  \n",
              "2       1  \n",
              "3       1  \n",
              "4       1  "
            ],
            "text/html": [
              "\n",
              "  <div id=\"df-ae59077b-4ce8-4286-923f-fb858add89f5\">\n",
              "    <div class=\"colab-df-container\">\n",
              "      <div>\n",
              "<style scoped>\n",
              "    .dataframe tbody tr th:only-of-type {\n",
              "        vertical-align: middle;\n",
              "    }\n",
              "\n",
              "    .dataframe tbody tr th {\n",
              "        vertical-align: top;\n",
              "    }\n",
              "\n",
              "    .dataframe thead th {\n",
              "        text-align: right;\n",
              "    }\n",
              "</style>\n",
              "<table border=\"1\" class=\"dataframe\">\n",
              "  <thead>\n",
              "    <tr style=\"text-align: right;\">\n",
              "      <th></th>\n",
              "      <th>id</th>\n",
              "      <th>gender</th>\n",
              "      <th>age</th>\n",
              "      <th>hypertension</th>\n",
              "      <th>heart_disease</th>\n",
              "      <th>ever_married</th>\n",
              "      <th>work_type</th>\n",
              "      <th>Residence_type</th>\n",
              "      <th>avg_glucose_level</th>\n",
              "      <th>bmi</th>\n",
              "      <th>smoking_status</th>\n",
              "      <th>stroke</th>\n",
              "    </tr>\n",
              "  </thead>\n",
              "  <tbody>\n",
              "    <tr>\n",
              "      <th>0</th>\n",
              "      <td>9046</td>\n",
              "      <td>Male</td>\n",
              "      <td>67.0</td>\n",
              "      <td>0</td>\n",
              "      <td>1</td>\n",
              "      <td>Yes</td>\n",
              "      <td>Private</td>\n",
              "      <td>Urban</td>\n",
              "      <td>228.69</td>\n",
              "      <td>36.6</td>\n",
              "      <td>formerly smoked</td>\n",
              "      <td>1</td>\n",
              "    </tr>\n",
              "    <tr>\n",
              "      <th>1</th>\n",
              "      <td>51676</td>\n",
              "      <td>Female</td>\n",
              "      <td>61.0</td>\n",
              "      <td>0</td>\n",
              "      <td>0</td>\n",
              "      <td>Yes</td>\n",
              "      <td>Self-employed</td>\n",
              "      <td>Rural</td>\n",
              "      <td>202.21</td>\n",
              "      <td>NaN</td>\n",
              "      <td>never smoked</td>\n",
              "      <td>1</td>\n",
              "    </tr>\n",
              "    <tr>\n",
              "      <th>2</th>\n",
              "      <td>31112</td>\n",
              "      <td>Male</td>\n",
              "      <td>80.0</td>\n",
              "      <td>0</td>\n",
              "      <td>1</td>\n",
              "      <td>Yes</td>\n",
              "      <td>Private</td>\n",
              "      <td>Rural</td>\n",
              "      <td>105.92</td>\n",
              "      <td>32.5</td>\n",
              "      <td>never smoked</td>\n",
              "      <td>1</td>\n",
              "    </tr>\n",
              "    <tr>\n",
              "      <th>3</th>\n",
              "      <td>60182</td>\n",
              "      <td>Female</td>\n",
              "      <td>49.0</td>\n",
              "      <td>0</td>\n",
              "      <td>0</td>\n",
              "      <td>Yes</td>\n",
              "      <td>Private</td>\n",
              "      <td>Urban</td>\n",
              "      <td>171.23</td>\n",
              "      <td>34.4</td>\n",
              "      <td>smokes</td>\n",
              "      <td>1</td>\n",
              "    </tr>\n",
              "    <tr>\n",
              "      <th>4</th>\n",
              "      <td>1665</td>\n",
              "      <td>Female</td>\n",
              "      <td>79.0</td>\n",
              "      <td>1</td>\n",
              "      <td>0</td>\n",
              "      <td>Yes</td>\n",
              "      <td>Self-employed</td>\n",
              "      <td>Rural</td>\n",
              "      <td>174.12</td>\n",
              "      <td>24.0</td>\n",
              "      <td>never smoked</td>\n",
              "      <td>1</td>\n",
              "    </tr>\n",
              "  </tbody>\n",
              "</table>\n",
              "</div>\n",
              "      <button class=\"colab-df-convert\" onclick=\"convertToInteractive('df-ae59077b-4ce8-4286-923f-fb858add89f5')\"\n",
              "              title=\"Convert this dataframe to an interactive table.\"\n",
              "              style=\"display:none;\">\n",
              "        \n",
              "  <svg xmlns=\"http://www.w3.org/2000/svg\" height=\"24px\"viewBox=\"0 0 24 24\"\n",
              "       width=\"24px\">\n",
              "    <path d=\"M0 0h24v24H0V0z\" fill=\"none\"/>\n",
              "    <path d=\"M18.56 5.44l.94 2.06.94-2.06 2.06-.94-2.06-.94-.94-2.06-.94 2.06-2.06.94zm-11 1L8.5 8.5l.94-2.06 2.06-.94-2.06-.94L8.5 2.5l-.94 2.06-2.06.94zm10 10l.94 2.06.94-2.06 2.06-.94-2.06-.94-.94-2.06-.94 2.06-2.06.94z\"/><path d=\"M17.41 7.96l-1.37-1.37c-.4-.4-.92-.59-1.43-.59-.52 0-1.04.2-1.43.59L10.3 9.45l-7.72 7.72c-.78.78-.78 2.05 0 2.83L4 21.41c.39.39.9.59 1.41.59.51 0 1.02-.2 1.41-.59l7.78-7.78 2.81-2.81c.8-.78.8-2.07 0-2.86zM5.41 20L4 18.59l7.72-7.72 1.47 1.35L5.41 20z\"/>\n",
              "  </svg>\n",
              "      </button>\n",
              "      \n",
              "  <style>\n",
              "    .colab-df-container {\n",
              "      display:flex;\n",
              "      flex-wrap:wrap;\n",
              "      gap: 12px;\n",
              "    }\n",
              "\n",
              "    .colab-df-convert {\n",
              "      background-color: #E8F0FE;\n",
              "      border: none;\n",
              "      border-radius: 50%;\n",
              "      cursor: pointer;\n",
              "      display: none;\n",
              "      fill: #1967D2;\n",
              "      height: 32px;\n",
              "      padding: 0 0 0 0;\n",
              "      width: 32px;\n",
              "    }\n",
              "\n",
              "    .colab-df-convert:hover {\n",
              "      background-color: #E2EBFA;\n",
              "      box-shadow: 0px 1px 2px rgba(60, 64, 67, 0.3), 0px 1px 3px 1px rgba(60, 64, 67, 0.15);\n",
              "      fill: #174EA6;\n",
              "    }\n",
              "\n",
              "    [theme=dark] .colab-df-convert {\n",
              "      background-color: #3B4455;\n",
              "      fill: #D2E3FC;\n",
              "    }\n",
              "\n",
              "    [theme=dark] .colab-df-convert:hover {\n",
              "      background-color: #434B5C;\n",
              "      box-shadow: 0px 1px 3px 1px rgba(0, 0, 0, 0.15);\n",
              "      filter: drop-shadow(0px 1px 2px rgba(0, 0, 0, 0.3));\n",
              "      fill: #FFFFFF;\n",
              "    }\n",
              "  </style>\n",
              "\n",
              "      <script>\n",
              "        const buttonEl =\n",
              "          document.querySelector('#df-ae59077b-4ce8-4286-923f-fb858add89f5 button.colab-df-convert');\n",
              "        buttonEl.style.display =\n",
              "          google.colab.kernel.accessAllowed ? 'block' : 'none';\n",
              "\n",
              "        async function convertToInteractive(key) {\n",
              "          const element = document.querySelector('#df-ae59077b-4ce8-4286-923f-fb858add89f5');\n",
              "          const dataTable =\n",
              "            await google.colab.kernel.invokeFunction('convertToInteractive',\n",
              "                                                     [key], {});\n",
              "          if (!dataTable) return;\n",
              "\n",
              "          const docLinkHtml = 'Like what you see? Visit the ' +\n",
              "            '<a target=\"_blank\" href=https://colab.research.google.com/notebooks/data_table.ipynb>data table notebook</a>'\n",
              "            + ' to learn more about interactive tables.';\n",
              "          element.innerHTML = '';\n",
              "          dataTable['output_type'] = 'display_data';\n",
              "          await google.colab.output.renderOutput(dataTable, element);\n",
              "          const docLink = document.createElement('div');\n",
              "          docLink.innerHTML = docLinkHtml;\n",
              "          element.appendChild(docLink);\n",
              "        }\n",
              "      </script>\n",
              "    </div>\n",
              "  </div>\n",
              "  "
            ]
          },
          "metadata": {},
          "execution_count": 8
        }
      ]
    },
    {
      "cell_type": "code",
      "source": [
        "df = df.drop(columns = ['id'])"
      ],
      "metadata": {
        "id": "GjBIXS7IAJqT",
        "execution": {
          "iopub.status.busy": "2022-07-20T07:09:40.696623Z",
          "iopub.execute_input": "2022-07-20T07:09:40.696994Z",
          "iopub.status.idle": "2022-07-20T07:09:40.704124Z",
          "shell.execute_reply.started": "2022-07-20T07:09:40.696967Z",
          "shell.execute_reply": "2022-07-20T07:09:40.702949Z"
        },
        "trusted": true
      },
      "execution_count": 9,
      "outputs": []
    },
    {
      "cell_type": "code",
      "source": [
        "print(df['gender'].unique())\n",
        "print(df['ever_married'].unique())\n",
        "print(df['work_type'].unique())\n",
        "print(df['Residence_type'].unique())\n",
        "print(df['smoking_status'].unique())"
      ],
      "metadata": {
        "id": "1wi5RFbn6bTC",
        "execution": {
          "iopub.status.busy": "2022-07-20T07:09:40.760327Z",
          "iopub.execute_input": "2022-07-20T07:09:40.761646Z",
          "iopub.status.idle": "2022-07-20T07:09:40.774094Z",
          "shell.execute_reply.started": "2022-07-20T07:09:40.761602Z",
          "shell.execute_reply": "2022-07-20T07:09:40.772476Z"
        },
        "trusted": true,
        "colab": {
          "base_uri": "https://localhost:8080/"
        },
        "outputId": "7630feb2-d646-4f0c-eb76-b595c207928a"
      },
      "execution_count": 10,
      "outputs": [
        {
          "output_type": "stream",
          "name": "stdout",
          "text": [
            "['Male' 'Female' 'Other']\n",
            "['Yes' 'No']\n",
            "['Private' 'Self-employed' 'Govt_job' 'children' 'Never_worked']\n",
            "['Urban' 'Rural']\n",
            "['formerly smoked' 'never smoked' 'smokes' 'Unknown']\n"
          ]
        }
      ]
    },
    {
      "cell_type": "code",
      "source": [
        "df.isna().sum()"
      ],
      "metadata": {
        "id": "Ysxz9jDk_6lL",
        "execution": {
          "iopub.status.busy": "2022-07-20T07:09:40.825324Z",
          "iopub.execute_input": "2022-07-20T07:09:40.826139Z",
          "iopub.status.idle": "2022-07-20T07:09:40.839970Z",
          "shell.execute_reply.started": "2022-07-20T07:09:40.826101Z",
          "shell.execute_reply": "2022-07-20T07:09:40.838941Z"
        },
        "trusted": true,
        "colab": {
          "base_uri": "https://localhost:8080/"
        },
        "outputId": "ca337f56-65fb-4a92-8768-68a25efdb5ae"
      },
      "execution_count": 11,
      "outputs": [
        {
          "output_type": "execute_result",
          "data": {
            "text/plain": [
              "gender                 0\n",
              "age                    0\n",
              "hypertension           0\n",
              "heart_disease          0\n",
              "ever_married           0\n",
              "work_type              0\n",
              "Residence_type         0\n",
              "avg_glucose_level      0\n",
              "bmi                  201\n",
              "smoking_status         0\n",
              "stroke                 0\n",
              "dtype: int64"
            ]
          },
          "metadata": {},
          "execution_count": 11
        }
      ]
    },
    {
      "cell_type": "markdown",
      "source": [
        "## Representation of people in dataset"
      ],
      "metadata": {
        "id": "AacIeysB4H6c"
      }
    },
    {
      "cell_type": "markdown",
      "source": [
        "Let's check the statistics to know about the representation of age-groups, incidence of stroke in the given population, and other numerical parameters."
      ],
      "metadata": {
        "id": "p_itBqUEcao3"
      }
    },
    {
      "cell_type": "code",
      "source": [
        "df.describe()"
      ],
      "metadata": {
        "id": "gUFY-oZk_0QE",
        "execution": {
          "iopub.status.busy": "2022-07-20T07:09:40.896253Z",
          "iopub.execute_input": "2022-07-20T07:09:40.896958Z",
          "iopub.status.idle": "2022-07-20T07:09:40.931134Z",
          "shell.execute_reply.started": "2022-07-20T07:09:40.896922Z",
          "shell.execute_reply": "2022-07-20T07:09:40.930180Z"
        },
        "trusted": true,
        "colab": {
          "base_uri": "https://localhost:8080/",
          "height": 300
        },
        "outputId": "197af869-18dd-4ac5-afdf-b6fbd91e7e1d"
      },
      "execution_count": 12,
      "outputs": [
        {
          "output_type": "execute_result",
          "data": {
            "text/plain": [
              "               age  hypertension  heart_disease  avg_glucose_level  \\\n",
              "count  5110.000000   5110.000000    5110.000000        5110.000000   \n",
              "mean     43.226614      0.097456       0.054012         106.147677   \n",
              "std      22.612647      0.296607       0.226063          45.283560   \n",
              "min       0.080000      0.000000       0.000000          55.120000   \n",
              "25%      25.000000      0.000000       0.000000          77.245000   \n",
              "50%      45.000000      0.000000       0.000000          91.885000   \n",
              "75%      61.000000      0.000000       0.000000         114.090000   \n",
              "max      82.000000      1.000000       1.000000         271.740000   \n",
              "\n",
              "               bmi       stroke  \n",
              "count  4909.000000  5110.000000  \n",
              "mean     28.893237     0.048728  \n",
              "std       7.854067     0.215320  \n",
              "min      10.300000     0.000000  \n",
              "25%      23.500000     0.000000  \n",
              "50%      28.100000     0.000000  \n",
              "75%      33.100000     0.000000  \n",
              "max      97.600000     1.000000  "
            ],
            "text/html": [
              "\n",
              "  <div id=\"df-f4a86429-2154-4f7d-9400-bee9ccd20132\">\n",
              "    <div class=\"colab-df-container\">\n",
              "      <div>\n",
              "<style scoped>\n",
              "    .dataframe tbody tr th:only-of-type {\n",
              "        vertical-align: middle;\n",
              "    }\n",
              "\n",
              "    .dataframe tbody tr th {\n",
              "        vertical-align: top;\n",
              "    }\n",
              "\n",
              "    .dataframe thead th {\n",
              "        text-align: right;\n",
              "    }\n",
              "</style>\n",
              "<table border=\"1\" class=\"dataframe\">\n",
              "  <thead>\n",
              "    <tr style=\"text-align: right;\">\n",
              "      <th></th>\n",
              "      <th>age</th>\n",
              "      <th>hypertension</th>\n",
              "      <th>heart_disease</th>\n",
              "      <th>avg_glucose_level</th>\n",
              "      <th>bmi</th>\n",
              "      <th>stroke</th>\n",
              "    </tr>\n",
              "  </thead>\n",
              "  <tbody>\n",
              "    <tr>\n",
              "      <th>count</th>\n",
              "      <td>5110.000000</td>\n",
              "      <td>5110.000000</td>\n",
              "      <td>5110.000000</td>\n",
              "      <td>5110.000000</td>\n",
              "      <td>4909.000000</td>\n",
              "      <td>5110.000000</td>\n",
              "    </tr>\n",
              "    <tr>\n",
              "      <th>mean</th>\n",
              "      <td>43.226614</td>\n",
              "      <td>0.097456</td>\n",
              "      <td>0.054012</td>\n",
              "      <td>106.147677</td>\n",
              "      <td>28.893237</td>\n",
              "      <td>0.048728</td>\n",
              "    </tr>\n",
              "    <tr>\n",
              "      <th>std</th>\n",
              "      <td>22.612647</td>\n",
              "      <td>0.296607</td>\n",
              "      <td>0.226063</td>\n",
              "      <td>45.283560</td>\n",
              "      <td>7.854067</td>\n",
              "      <td>0.215320</td>\n",
              "    </tr>\n",
              "    <tr>\n",
              "      <th>min</th>\n",
              "      <td>0.080000</td>\n",
              "      <td>0.000000</td>\n",
              "      <td>0.000000</td>\n",
              "      <td>55.120000</td>\n",
              "      <td>10.300000</td>\n",
              "      <td>0.000000</td>\n",
              "    </tr>\n",
              "    <tr>\n",
              "      <th>25%</th>\n",
              "      <td>25.000000</td>\n",
              "      <td>0.000000</td>\n",
              "      <td>0.000000</td>\n",
              "      <td>77.245000</td>\n",
              "      <td>23.500000</td>\n",
              "      <td>0.000000</td>\n",
              "    </tr>\n",
              "    <tr>\n",
              "      <th>50%</th>\n",
              "      <td>45.000000</td>\n",
              "      <td>0.000000</td>\n",
              "      <td>0.000000</td>\n",
              "      <td>91.885000</td>\n",
              "      <td>28.100000</td>\n",
              "      <td>0.000000</td>\n",
              "    </tr>\n",
              "    <tr>\n",
              "      <th>75%</th>\n",
              "      <td>61.000000</td>\n",
              "      <td>0.000000</td>\n",
              "      <td>0.000000</td>\n",
              "      <td>114.090000</td>\n",
              "      <td>33.100000</td>\n",
              "      <td>0.000000</td>\n",
              "    </tr>\n",
              "    <tr>\n",
              "      <th>max</th>\n",
              "      <td>82.000000</td>\n",
              "      <td>1.000000</td>\n",
              "      <td>1.000000</td>\n",
              "      <td>271.740000</td>\n",
              "      <td>97.600000</td>\n",
              "      <td>1.000000</td>\n",
              "    </tr>\n",
              "  </tbody>\n",
              "</table>\n",
              "</div>\n",
              "      <button class=\"colab-df-convert\" onclick=\"convertToInteractive('df-f4a86429-2154-4f7d-9400-bee9ccd20132')\"\n",
              "              title=\"Convert this dataframe to an interactive table.\"\n",
              "              style=\"display:none;\">\n",
              "        \n",
              "  <svg xmlns=\"http://www.w3.org/2000/svg\" height=\"24px\"viewBox=\"0 0 24 24\"\n",
              "       width=\"24px\">\n",
              "    <path d=\"M0 0h24v24H0V0z\" fill=\"none\"/>\n",
              "    <path d=\"M18.56 5.44l.94 2.06.94-2.06 2.06-.94-2.06-.94-.94-2.06-.94 2.06-2.06.94zm-11 1L8.5 8.5l.94-2.06 2.06-.94-2.06-.94L8.5 2.5l-.94 2.06-2.06.94zm10 10l.94 2.06.94-2.06 2.06-.94-2.06-.94-.94-2.06-.94 2.06-2.06.94z\"/><path d=\"M17.41 7.96l-1.37-1.37c-.4-.4-.92-.59-1.43-.59-.52 0-1.04.2-1.43.59L10.3 9.45l-7.72 7.72c-.78.78-.78 2.05 0 2.83L4 21.41c.39.39.9.59 1.41.59.51 0 1.02-.2 1.41-.59l7.78-7.78 2.81-2.81c.8-.78.8-2.07 0-2.86zM5.41 20L4 18.59l7.72-7.72 1.47 1.35L5.41 20z\"/>\n",
              "  </svg>\n",
              "      </button>\n",
              "      \n",
              "  <style>\n",
              "    .colab-df-container {\n",
              "      display:flex;\n",
              "      flex-wrap:wrap;\n",
              "      gap: 12px;\n",
              "    }\n",
              "\n",
              "    .colab-df-convert {\n",
              "      background-color: #E8F0FE;\n",
              "      border: none;\n",
              "      border-radius: 50%;\n",
              "      cursor: pointer;\n",
              "      display: none;\n",
              "      fill: #1967D2;\n",
              "      height: 32px;\n",
              "      padding: 0 0 0 0;\n",
              "      width: 32px;\n",
              "    }\n",
              "\n",
              "    .colab-df-convert:hover {\n",
              "      background-color: #E2EBFA;\n",
              "      box-shadow: 0px 1px 2px rgba(60, 64, 67, 0.3), 0px 1px 3px 1px rgba(60, 64, 67, 0.15);\n",
              "      fill: #174EA6;\n",
              "    }\n",
              "\n",
              "    [theme=dark] .colab-df-convert {\n",
              "      background-color: #3B4455;\n",
              "      fill: #D2E3FC;\n",
              "    }\n",
              "\n",
              "    [theme=dark] .colab-df-convert:hover {\n",
              "      background-color: #434B5C;\n",
              "      box-shadow: 0px 1px 3px 1px rgba(0, 0, 0, 0.15);\n",
              "      filter: drop-shadow(0px 1px 2px rgba(0, 0, 0, 0.3));\n",
              "      fill: #FFFFFF;\n",
              "    }\n",
              "  </style>\n",
              "\n",
              "      <script>\n",
              "        const buttonEl =\n",
              "          document.querySelector('#df-f4a86429-2154-4f7d-9400-bee9ccd20132 button.colab-df-convert');\n",
              "        buttonEl.style.display =\n",
              "          google.colab.kernel.accessAllowed ? 'block' : 'none';\n",
              "\n",
              "        async function convertToInteractive(key) {\n",
              "          const element = document.querySelector('#df-f4a86429-2154-4f7d-9400-bee9ccd20132');\n",
              "          const dataTable =\n",
              "            await google.colab.kernel.invokeFunction('convertToInteractive',\n",
              "                                                     [key], {});\n",
              "          if (!dataTable) return;\n",
              "\n",
              "          const docLinkHtml = 'Like what you see? Visit the ' +\n",
              "            '<a target=\"_blank\" href=https://colab.research.google.com/notebooks/data_table.ipynb>data table notebook</a>'\n",
              "            + ' to learn more about interactive tables.';\n",
              "          element.innerHTML = '';\n",
              "          dataTable['output_type'] = 'display_data';\n",
              "          await google.colab.output.renderOutput(dataTable, element);\n",
              "          const docLink = document.createElement('div');\n",
              "          docLink.innerHTML = docLinkHtml;\n",
              "          element.appendChild(docLink);\n",
              "        }\n",
              "      </script>\n",
              "    </div>\n",
              "  </div>\n",
              "  "
            ]
          },
          "metadata": {},
          "execution_count": 12
        }
      ]
    },
    {
      "cell_type": "markdown",
      "source": [
        "We see that median age of population is 45 years. Also, 25% of the population is aged below 25, another 25% is aged above 60 and remaining in between these ages. Thus, various age groups are adequately represented in the dataset.\n",
        "\n",
        "Average glucose levels of the population is 106, well within the recommended limit 100 - 120 mg/dl. However, due to standard deviation, much of the population is outside of this limit. Only about 25% of population has normal level of diabetes. Nevertheless, this representation of non-diabetic people is sufficient for developing machine learning models.\n",
        "\n",
        "It is clear that people with BMI < 33 are sufficiently represented. However, we are not sure about the representation of people with BMI > 33.\n",
        "\n",
        "About 9.7% and 5.4% of population suffers from hypertension and heart disease respectively. Combined to this, percentage of people with stroke is only 4.7% against the background of 95.3% of population who never suffered from stroke. This can be difficult to handle for a machine learning model, since these classes are quite underrepresented when compared to their binary counterparts."
      ],
      "metadata": {
        "id": "ygIwX6I0c6Io"
      }
    },
    {
      "cell_type": "code",
      "source": [
        "print('Percentage of population which has 35 < BMI < 45 : {:0.2f}%'.format(df[(df['bmi'] < 45) & (df['bmi'] > 35)].shape[0]*100/df.shape[0]))\n",
        "print('Percentage of population which has 45 < BMI < 60 : {:0.2f}%'.format(df[(df['bmi'] < 60) & (df['bmi'] > 45)].shape[0]*100/df.shape[0]))"
      ],
      "metadata": {
        "id": "PIpCmSNjhXBF",
        "execution": {
          "iopub.status.busy": "2022-07-20T07:09:40.963427Z",
          "iopub.execute_input": "2022-07-20T07:09:40.964134Z",
          "iopub.status.idle": "2022-07-20T07:09:40.974995Z",
          "shell.execute_reply.started": "2022-07-20T07:09:40.964099Z",
          "shell.execute_reply": "2022-07-20T07:09:40.973962Z"
        },
        "trusted": true,
        "colab": {
          "base_uri": "https://localhost:8080/"
        },
        "outputId": "c3e05ce3-a65e-44e8-ba14-8b668e4b2d46"
      },
      "execution_count": 13,
      "outputs": [
        {
          "output_type": "stream",
          "name": "stdout",
          "text": [
            "Percentage of population which has 35 < BMI < 45 : 14.64%\n",
            "Percentage of population which has 45 < BMI < 60 : 2.78%\n"
          ]
        }
      ]
    },
    {
      "cell_type": "markdown",
      "source": [
        "People with higher BMI (BMI > 45) are less represented. This can affect our machine learning models significantly."
      ],
      "metadata": {
        "id": "PJnuPLEmeG4e"
      }
    },
    {
      "cell_type": "markdown",
      "source": [
        "Gender distribution of the population in our dataset"
      ],
      "metadata": {
        "id": "CQI9S6ZJim6Y"
      }
    },
    {
      "cell_type": "code",
      "source": [
        "plot_pie_value_count('gender', df, title = 'Gender Representation')"
      ],
      "metadata": {
        "id": "jAcD_UYN4Ney",
        "execution": {
          "iopub.status.busy": "2022-07-20T07:09:41.029195Z",
          "iopub.execute_input": "2022-07-20T07:09:41.030511Z",
          "iopub.status.idle": "2022-07-20T07:09:41.155433Z",
          "shell.execute_reply.started": "2022-07-20T07:09:41.030454Z",
          "shell.execute_reply": "2022-07-20T07:09:41.154110Z"
        },
        "trusted": true,
        "colab": {
          "base_uri": "https://localhost:8080/",
          "height": 265
        },
        "outputId": "d25595b3-bf4b-4e64-88c1-d2f6c7854912"
      },
      "execution_count": 14,
      "outputs": [
        {
          "output_type": "display_data",
          "data": {
            "text/plain": [
              "<Figure size 432x288 with 1 Axes>"
            ],
            "image/png": "[encoded data removed]"
          },
          "metadata": {}
        }
      ]
    },
    {
      "cell_type": "markdown",
      "source": [
        "Gender represenation of male and female classes is sufficient. However, non-binary population is not adequately represented.\n",
        "\n",
        "Let's check the count of non-binary people."
      ],
      "metadata": {
        "id": "e5j_qbCui3jP"
      }
    },
    {
      "cell_type": "code",
      "source": [
        "df[df['gender'] == 'Other'].shape[0]"
      ],
      "metadata": {
        "id": "LXhkL68qjThT",
        "execution": {
          "iopub.status.busy": "2022-07-20T07:09:41.157645Z",
          "iopub.execute_input": "2022-07-20T07:09:41.159531Z",
          "iopub.status.idle": "2022-07-20T07:09:41.171185Z",
          "shell.execute_reply.started": "2022-07-20T07:09:41.159477Z",
          "shell.execute_reply": "2022-07-20T07:09:41.169941Z"
        },
        "trusted": true,
        "colab": {
          "base_uri": "https://localhost:8080/"
        },
        "outputId": "c1958673-c5ad-4010-840a-118177daeb6a"
      },
      "execution_count": 15,
      "outputs": [
        {
          "output_type": "execute_result",
          "data": {
            "text/plain": [
              "1"
            ]
          },
          "metadata": {},
          "execution_count": 15
        }
      ]
    },
    {
      "cell_type": "markdown",
      "source": [
        "Only one member of non-binary class is on the dataset. Thus, we may conclude that no prediction can be made regarding non-binary people unless we get dataset which fairly represents them."
      ],
      "metadata": {
        "id": "xCarYGOujaw4"
      }
    },
    {
      "cell_type": "markdown",
      "source": [
        "Let's plot the pie chart for distribution of married people in our dataset."
      ],
      "metadata": {
        "id": "4qbViNEljQ_E"
      }
    },
    {
      "cell_type": "code",
      "source": [
        "marriage_labels = {\n",
        "    'Yes' : 'Married atleast once',\n",
        "    'No'  : 'Never Married',\n",
        "}\n",
        "plot_pie_value_count('ever_married', df[df['age'] > 18], label_dict = marriage_labels, title = 'Married People Representation')"
      ],
      "metadata": {
        "id": "o55IRKIY-i9p",
        "execution": {
          "iopub.status.busy": "2022-07-20T07:09:41.173378Z",
          "iopub.execute_input": "2022-07-20T07:09:41.175132Z",
          "iopub.status.idle": "2022-07-20T07:09:41.307047Z",
          "shell.execute_reply.started": "2022-07-20T07:09:41.175072Z",
          "shell.execute_reply": "2022-07-20T07:09:41.305892Z"
        },
        "trusted": true,
        "colab": {
          "base_uri": "https://localhost:8080/",
          "height": 265
        },
        "outputId": "0ebcda51-a30b-4105-babd-6063af74797c"
      },
      "execution_count": 16,
      "outputs": [
        {
          "output_type": "display_data",
          "data": {
            "text/plain": [
              "<Figure size 432x288 with 1 Axes>"
            ],
            "image/png": "[encoded data removed]"
          },
          "metadata": {}
        }
      ]
    },
    {
      "cell_type": "markdown",
      "source": [
        "For adults (age > 18), there is sufficient representation of people who have married and those who never did.\n",
        "\n",
        "Let's check if we have any data for children who are married."
      ],
      "metadata": {
        "id": "N9Omn4dCkHoF"
      }
    },
    {
      "cell_type": "code",
      "source": [
        "df[(df['age'] < 18) & (df['ever_married'] == 'Yes')].shape[0]"
      ],
      "metadata": {
        "id": "LhPW0kQUsoFF",
        "execution": {
          "iopub.status.busy": "2022-07-20T07:09:41.309337Z",
          "iopub.execute_input": "2022-07-20T07:09:41.310870Z",
          "iopub.status.idle": "2022-07-20T07:09:41.323649Z",
          "shell.execute_reply.started": "2022-07-20T07:09:41.310815Z",
          "shell.execute_reply": "2022-07-20T07:09:41.322801Z"
        },
        "trusted": true,
        "colab": {
          "base_uri": "https://localhost:8080/"
        },
        "outputId": "89ef44fa-1558-4cc1-9693-e43a1830ed56"
      },
      "execution_count": 17,
      "outputs": [
        {
          "output_type": "execute_result",
          "data": {
            "text/plain": [
              "0"
            ]
          },
          "metadata": {},
          "execution_count": 17
        }
      ]
    },
    {
      "cell_type": "markdown",
      "source": [
        "So we have no data of children who are married. Nevertheless, child marriages are quite frequent in South Asian countries as well as in Middle-East and Africa. But, we may not be able to make any predictions regarding these class of people."
      ],
      "metadata": {
        "id": "xuFL_f7EtBtk"
      }
    },
    {
      "cell_type": "markdown",
      "source": [
        "Let's check work-types adapted by people represented in our dataset"
      ],
      "metadata": {
        "id": "dadTFjKkkk42"
      }
    },
    {
      "cell_type": "code",
      "source": [
        "plot_pie_value_count('work_type', df, title = 'Work type distribution')"
      ],
      "metadata": {
        "id": "IDg3CbHYFAKZ",
        "execution": {
          "iopub.status.busy": "2022-07-20T07:09:41.325158Z",
          "iopub.execute_input": "2022-07-20T07:09:41.325850Z",
          "iopub.status.idle": "2022-07-20T07:09:41.483573Z",
          "shell.execute_reply.started": "2022-07-20T07:09:41.325808Z",
          "shell.execute_reply": "2022-07-20T07:09:41.482273Z"
        },
        "trusted": true,
        "colab": {
          "base_uri": "https://localhost:8080/",
          "height": 265
        },
        "outputId": "7cb22783-8863-4890-d02c-ff11c2cf61a6"
      },
      "execution_count": 18,
      "outputs": [
        {
          "output_type": "display_data",
          "data": {
            "text/plain": [
              "<Figure size 432x288 with 1 Axes>"
            ],
            "image/png": "[encoded data removed]"
          },
          "metadata": {}
        }
      ]
    },
    {
      "cell_type": "markdown",
      "source": [
        "It is clear that those who have never worked are underrepresented. Thus, machine learning models may not perform well on this class"
      ],
      "metadata": {
        "id": "D0MAXDNXnY-J"
      }
    },
    {
      "cell_type": "markdown",
      "source": [
        "Checking the rural-urban divide in our dataset"
      ],
      "metadata": {
        "id": "XpHwx9gznwQe"
      }
    },
    {
      "cell_type": "code",
      "source": [
        "plot_pie_value_count('Residence_type', df, title = 'Urban-Rural Distribution')"
      ],
      "metadata": {
        "id": "IldVGpdsFdtU",
        "execution": {
          "iopub.status.busy": "2022-07-20T07:09:41.486532Z",
          "iopub.execute_input": "2022-07-20T07:09:41.487318Z",
          "iopub.status.idle": "2022-07-20T07:09:41.605142Z",
          "shell.execute_reply.started": "2022-07-20T07:09:41.487270Z",
          "shell.execute_reply": "2022-07-20T07:09:41.603866Z"
        },
        "trusted": true,
        "colab": {
          "base_uri": "https://localhost:8080/",
          "height": 265
        },
        "outputId": "1a7f0657-8a02-4b66-da6d-8cefa7a1b360"
      },
      "execution_count": 19,
      "outputs": [
        {
          "output_type": "display_data",
          "data": {
            "text/plain": [
              "<Figure size 432x288 with 1 Axes>"
            ],
            "image/png": "[encoded data removed]"
          },
          "metadata": {}
        }
      ]
    },
    {
      "cell_type": "markdown",
      "source": [
        "Both urban and rural classes are equally represented."
      ],
      "metadata": {
        "id": "d9AoseT0n45U"
      }
    },
    {
      "cell_type": "markdown",
      "source": [
        "Atlast, let's check the smoking patterns of the represented population."
      ],
      "metadata": {
        "id": "SlXHg3LioDq-"
      }
    },
    {
      "cell_type": "code",
      "source": [
        "plot_pie_value_count('smoking_status', df, title = 'Smoking status')"
      ],
      "metadata": {
        "id": "UhbBOe26FwWQ",
        "execution": {
          "iopub.status.busy": "2022-07-20T07:09:41.607159Z",
          "iopub.execute_input": "2022-07-20T07:09:41.607987Z",
          "iopub.status.idle": "2022-07-20T07:09:41.751374Z",
          "shell.execute_reply.started": "2022-07-20T07:09:41.607911Z",
          "shell.execute_reply": "2022-07-20T07:09:41.750016Z"
        },
        "trusted": true,
        "colab": {
          "base_uri": "https://localhost:8080/",
          "height": 265
        },
        "outputId": "e3f61105-715b-445d-bfb1-cfb684007ca1"
      },
      "execution_count": 20,
      "outputs": [
        {
          "output_type": "display_data",
          "data": {
            "text/plain": [
              "<Figure size 432x288 with 1 Axes>"
            ],
            "image/png": "[encoded data removed]"
          },
          "metadata": {}
        }
      ]
    },
    {
      "cell_type": "markdown",
      "source": [
        "It is clear that all classes are adequately represented. However, we don't have information about the smoking status of 30% of the population. This may bring down the performance of our models."
      ],
      "metadata": {
        "id": "9ssWsUpBoUN_"
      }
    },
    {
      "cell_type": "markdown",
      "source": [
        "## Evaluating chances of getting stroke for different parameters"
      ],
      "metadata": {
        "id": "Y7nMxoVioxnT"
      }
    },
    {
      "cell_type": "markdown",
      "source": [
        "Let's check the chance of stroke for different genders."
      ],
      "metadata": {
        "id": "C5I2e0gHeG4l"
      }
    },
    {
      "cell_type": "code",
      "source": [
        "plot_chances('gender',\n",
        "chance_column = 'stroke',\n",
        "df = df,\n",
        "figsize = (8, 5),\n",
        "x_label = 'Gender',\n",
        "y_label = 'Chance of stroke',\n",
        "title = 'Gender vs Chance of Stroke',\n",
        ")"
      ],
      "metadata": {
        "execution": {
          "iopub.status.busy": "2022-07-20T07:09:41.753453Z",
          "iopub.execute_input": "2022-07-20T07:09:41.754295Z",
          "iopub.status.idle": "2022-07-20T07:09:41.949847Z",
          "shell.execute_reply.started": "2022-07-20T07:09:41.754244Z",
          "shell.execute_reply": "2022-07-20T07:09:41.949015Z"
        },
        "trusted": true,
        "id": "AlgcTTuMeG4l",
        "colab": {
          "base_uri": "https://localhost:8080/",
          "height": 352
        },
        "outputId": "07cadf5c-caa0-4283-dc05-5adc926856a0"
      },
      "execution_count": 21,
      "outputs": [
        {
          "output_type": "display_data",
          "data": {
            "text/plain": [
              "<Figure size 576x360 with 1 Axes>"
            ],
            "image/png": "[encoded data removed]"
          },
          "metadata": {
            "needs_background": "light"
          }
        }
      ]
    },
    {
      "cell_type": "markdown",
      "source": [
        "The chance of stroke look the same for male and female people. For others, the chance of stroke doesn't give any information because of lack of data.\n",
        "\n",
        "We hypothesise that:\n",
        "\n",
        "Null Hypothesis: H0:- chance of stroke is average for both males and females.\n",
        "\n",
        "Alternate Hypothesis: H1:- chance of stroke is higher than average for males."
      ],
      "metadata": {
        "id": "zQ5k2SVJeG4m"
      }
    },
    {
      "cell_type": "code",
      "source": [
        "compute_normal_confidence_interval('Male', 'gender', 'stroke', df, 0.05)"
      ],
      "metadata": {
        "execution": {
          "iopub.status.busy": "2022-07-20T07:09:41.952204Z",
          "iopub.execute_input": "2022-07-20T07:09:41.952697Z",
          "iopub.status.idle": "2022-07-20T07:09:41.964852Z",
          "shell.execute_reply.started": "2022-07-20T07:09:41.952666Z",
          "shell.execute_reply": "2022-07-20T07:09:41.963155Z"
        },
        "trusted": true,
        "id": "1zC0lIjjeG4m",
        "colab": {
          "base_uri": "https://localhost:8080/"
        },
        "outputId": "997f14c5-327b-41cd-99d9-2310e81623ee"
      },
      "execution_count": 22,
      "outputs": [
        {
          "output_type": "stream",
          "name": "stdout",
          "text": [
            "Sample mean of stroke for value Male in gender column is 0.05 and lies within confidence interval (0.04,0.06)\n"
          ]
        }
      ]
    },
    {
      "cell_type": "markdown",
      "source": [
        "Hence, we accept the null hypothesis that the chance of stroke is average for males as well as for females"
      ],
      "metadata": {
        "id": "sn4j9RvoeG4m"
      }
    },
    {
      "cell_type": "markdown",
      "source": [
        "Hypertension is known to be a significant factor in occurance of stroke. Let's plot the chances of occurance of stroke among people who have hypertension, and those who don't."
      ],
      "metadata": {
        "id": "0Rer7wjOo-eL"
      }
    },
    {
      "cell_type": "code",
      "source": [
        "yesno = {\n",
        "    1 : 'Yes',\n",
        "    0 : 'No'\n",
        "}\n",
        "plot_chances('hypertension',\n",
        "chance_column = 'stroke',\n",
        "df = df,\n",
        "figsize = (8, 5),\n",
        "x_tick_labels = yesno,\n",
        "x_label = 'Hypertension',\n",
        "y_label = 'Chance of stroke',\n",
        "title = 'Hypertension vs Chance of Stroke',\n",
        ")"
      ],
      "metadata": {
        "id": "Qpwpgg0qIkn6",
        "execution": {
          "iopub.status.busy": "2022-07-20T07:09:41.966809Z",
          "iopub.execute_input": "2022-07-20T07:09:41.967350Z",
          "iopub.status.idle": "2022-07-20T07:09:42.153165Z",
          "shell.execute_reply.started": "2022-07-20T07:09:41.967290Z",
          "shell.execute_reply": "2022-07-20T07:09:42.152170Z"
        },
        "trusted": true,
        "colab": {
          "base_uri": "https://localhost:8080/",
          "height": 352
        },
        "outputId": "8611d0bf-9895-4489-f12a-8a52f7434813"
      },
      "execution_count": 23,
      "outputs": [
        {
          "output_type": "display_data",
          "data": {
            "text/plain": [
              "<Figure size 576x360 with 1 Axes>"
            ],
            "image/png": "[encoded data removed]"
          },
          "metadata": {
            "needs_background": "light"
          }
        }
      ]
    },
    {
      "cell_type": "markdown",
      "source": [
        "Clearly, from plot the chance of stroke is high for people with hypertension. Hence, we hypothesise as follows:\n",
        "\n",
        "Null hypothesis : H0 :- Stroke chance is above average for a person with hypertension\n",
        "\n",
        "Alternate hypothesis H1 :- Stroke chance remains average for person with hypertension"
      ],
      "metadata": {
        "id": "BkVWKQaSIkn9"
      }
    },
    {
      "cell_type": "code",
      "source": [
        "compute_normal_confidence_interval(1, 'hypertension', 'stroke', df, 0.05, 1, 'gt')"
      ],
      "metadata": {
        "id": "arFH-CECIkn_",
        "execution": {
          "iopub.status.busy": "2022-07-20T07:09:42.154378Z",
          "iopub.execute_input": "2022-07-20T07:09:42.155437Z",
          "iopub.status.idle": "2022-07-20T07:09:42.166854Z",
          "shell.execute_reply.started": "2022-07-20T07:09:42.155402Z",
          "shell.execute_reply": "2022-07-20T07:09:42.165752Z"
        },
        "trusted": true,
        "colab": {
          "base_uri": "https://localhost:8080/"
        },
        "outputId": "4ce85067-1119-4910-d8f1-36217a454f52"
      },
      "execution_count": 24,
      "outputs": [
        {
          "output_type": "stream",
          "name": "stdout",
          "text": [
            "Sample mean of stroke for value 1 in hypertension column is 0.13 and lies within confidence interval (0.02,inf)\n"
          ]
        }
      ]
    },
    {
      "cell_type": "markdown",
      "source": [
        "Since the stroke chance for those with hypertension is significantly above average, we accept null hypothesis.\n",
        "\n",
        "Hence, chance of stroke is high for people with hypertension"
      ],
      "metadata": {
        "id": "q3YfhSMoIkoA"
      }
    },
    {
      "cell_type": "markdown",
      "source": [
        "Heart disease are known to increase the risk of a person getting the stroke. Let's plot the chance of occurance of stroke among people who have heart disease against those who don't."
      ],
      "metadata": {
        "id": "ueF_5hOWpidS"
      }
    },
    {
      "cell_type": "code",
      "source": [
        "yesno = {\n",
        "    1 : 'Yes',\n",
        "    0 : 'No'\n",
        "}\n",
        "plot_chances('heart_disease',\n",
        "chance_column = 'stroke',\n",
        "df = df,\n",
        "figsize = (8, 5),\n",
        "x_tick_labels = yesno,\n",
        "x_label = 'Heartdisease',\n",
        "y_label = 'Chance of stroke',\n",
        "title = 'Heartdisease vs Chance of Stroke',\n",
        ")"
      ],
      "metadata": {
        "id": "WmVI4v_YIkoB",
        "execution": {
          "iopub.status.busy": "2022-07-20T07:09:42.168420Z",
          "iopub.execute_input": "2022-07-20T07:09:42.169872Z",
          "iopub.status.idle": "2022-07-20T07:09:42.357486Z",
          "shell.execute_reply.started": "2022-07-20T07:09:42.169786Z",
          "shell.execute_reply": "2022-07-20T07:09:42.356079Z"
        },
        "trusted": true,
        "colab": {
          "base_uri": "https://localhost:8080/",
          "height": 352
        },
        "outputId": "3ac69dff-7edf-492e-d390-b391212df5a3"
      },
      "execution_count": 25,
      "outputs": [
        {
          "output_type": "display_data",
          "data": {
            "text/plain": [
              "<Figure size 576x360 with 1 Axes>"
            ],
            "image/png": "[encoded data removed]"
          },
          "metadata": {
            "needs_background": "light"
          }
        }
      ]
    },
    {
      "cell_type": "markdown",
      "source": [
        "Clearly from plot the chance of stroke increases for people with heart disease. So, we hypothesise as follows:\n",
        "\n",
        "Null hypothesis : H0 :- Stroke chance is greater than average for a person with heart disease\n",
        "\n",
        "Alternate hypothesis : H1 :- Stroke chance remains average for person with heart disease"
      ],
      "metadata": {
        "id": "o2MhqLJHIkoC"
      }
    },
    {
      "cell_type": "code",
      "source": [
        "compute_normal_confidence_interval(1, 'heart_disease', 'stroke', df, 0.05, 1, 'gt')"
      ],
      "metadata": {
        "id": "Hbf2pO1dIkoD",
        "execution": {
          "iopub.status.busy": "2022-07-20T07:09:42.359429Z",
          "iopub.execute_input": "2022-07-20T07:09:42.360231Z",
          "iopub.status.idle": "2022-07-20T07:09:42.372825Z",
          "shell.execute_reply.started": "2022-07-20T07:09:42.360184Z",
          "shell.execute_reply": "2022-07-20T07:09:42.371193Z"
        },
        "trusted": true,
        "colab": {
          "base_uri": "https://localhost:8080/"
        },
        "outputId": "7e8402d4-a788-47c1-93d4-fe16bc93372f"
      },
      "execution_count": 26,
      "outputs": [
        {
          "output_type": "stream",
          "name": "stdout",
          "text": [
            "Sample mean of stroke for value 1 in heart_disease column is 0.17 and lies within confidence interval (0.01,inf)\n"
          ]
        }
      ]
    },
    {
      "cell_type": "markdown",
      "source": [
        "Since chance of stroke for those with heart disease is significantly great, we accept the null hypothesis\n",
        "\n",
        "Hence, chance of stroke is high for people who had heart disease"
      ],
      "metadata": {
        "id": "NZF5tOj4IkoD"
      }
    },
    {
      "cell_type": "code",
      "source": [
        "plot_chances('ever_married',\n",
        "chance_column = 'stroke',\n",
        "df = df,\n",
        "figsize = (8, 5),\n",
        "x_label = 'Ever Married',\n",
        "y_label = 'Chance of stroke',\n",
        "title = 'Marriage vs Chance of Stroke',\n",
        ")"
      ],
      "metadata": {
        "id": "ipTbKSsWIkoE",
        "execution": {
          "iopub.status.busy": "2022-07-20T07:09:42.376859Z",
          "iopub.execute_input": "2022-07-20T07:09:42.377312Z",
          "iopub.status.idle": "2022-07-20T07:09:42.560520Z",
          "shell.execute_reply.started": "2022-07-20T07:09:42.377278Z",
          "shell.execute_reply": "2022-07-20T07:09:42.559446Z"
        },
        "trusted": true,
        "colab": {
          "base_uri": "https://localhost:8080/",
          "height": 352
        },
        "outputId": "8698cd43-2442-4263-97c0-32d9934be3d5"
      },
      "execution_count": 27,
      "outputs": [
        {
          "output_type": "display_data",
          "data": {
            "text/plain": [
              "<Figure size 576x360 with 1 Axes>"
            ],
            "image/png": "[encoded data removed]"
          },
          "metadata": {
            "needs_background": "light"
          }
        }
      ]
    },
    {
      "cell_type": "markdown",
      "source": [
        "Null hypothesis : H0 :- Stroke chance is above average for a person who has married once\n",
        "\n",
        "Alternate hypothesis : H1 :- Stroke chance remains average for person who has married once"
      ],
      "metadata": {
        "id": "q0pZh0VDIkoE"
      }
    },
    {
      "cell_type": "code",
      "source": [
        "compute_normal_confidence_interval('Yes', 'ever_married', 'stroke', df, 0.05, 1, 'gt')"
      ],
      "metadata": {
        "id": "_VDDSlVYIkoF",
        "execution": {
          "iopub.status.busy": "2022-07-20T07:09:42.562054Z",
          "iopub.execute_input": "2022-07-20T07:09:42.562778Z",
          "iopub.status.idle": "2022-07-20T07:09:42.575425Z",
          "shell.execute_reply.started": "2022-07-20T07:09:42.562731Z",
          "shell.execute_reply": "2022-07-20T07:09:42.574252Z"
        },
        "trusted": true,
        "colab": {
          "base_uri": "https://localhost:8080/"
        },
        "outputId": "535ae536-bc2c-48d9-a47f-b3ec5c0395cc"
      },
      "execution_count": 28,
      "outputs": [
        {
          "output_type": "stream",
          "name": "stdout",
          "text": [
            "Sample mean of stroke for value Yes in ever_married column is 0.07 and lies within confidence interval (0.04,inf)\n"
          ]
        }
      ]
    },
    {
      "cell_type": "markdown",
      "source": [
        "Since chance of stroke for those who married atleast once is significantly great, we accept the null hypothesis\n",
        "\n",
        "Hence, chance of stroke is high for people who have married once. \n",
        "Also, the chance of stroke is significantly low for people who never married. The reason for the latter could be that the poplulation who have never married also includes children, whose chances of getting a stroke may be low.\n",
        "\n",
        "For removing this ambiguity, let's plot such graphs for different age groups.\n"
      ],
      "metadata": {
        "id": "biy3t0ISIkoF"
      }
    },
    {
      "cell_type": "code",
      "source": [
        "x_ticks = np.array([i for i in range(5, 105, 10)])\n",
        "age = [(i, i+10) for i in range(0, 100, 10)]\n",
        "plt.bar(x_ticks - 1, \n",
        "        [df[(df['age'] > age[i][0]) & (df['age'] < age[i][1]) & (df['ever_married'] == 'No')]['stroke'].mean() for i in range(10)],\n",
        "        width=2, label = 'No')\n",
        "plt.bar(x_ticks + 1,\n",
        "        [df[(df['age'] > age[i][0]) & (df['age'] < age[i][1]) & (df['ever_married'] == 'Yes')]['stroke'].mean() for i in range(10)],\n",
        "        width=2, label = 'Yes')\n",
        "\n",
        "age_labels = [f'{age[i][0]}-{age[i][1]}' for i in range(len(age))]\n",
        "plt.xticks(x_ticks, labels = age_labels)\n",
        "plt.xlabel('Age groups')\n",
        "plt.ylabel('Chance of Stroke')\n",
        "plt.legend(title = 'Ever Married')\n",
        "plt.title('Marriage vs chance of stroke for different age groups')\n",
        "\n",
        "plt.show()"
      ],
      "metadata": {
        "id": "DPwVd0Rsu308",
        "execution": {
          "iopub.status.busy": "2022-07-20T07:09:42.577132Z",
          "iopub.execute_input": "2022-07-20T07:09:42.578415Z",
          "iopub.status.idle": "2022-07-20T07:09:42.901342Z",
          "shell.execute_reply.started": "2022-07-20T07:09:42.578360Z",
          "shell.execute_reply": "2022-07-20T07:09:42.900451Z"
        },
        "trusted": true,
        "colab": {
          "base_uri": "https://localhost:8080/",
          "height": 295
        },
        "outputId": "9a4fb7df-558d-48a5-d20c-4123190d17ae"
      },
      "execution_count": 29,
      "outputs": [
        {
          "output_type": "display_data",
          "data": {
            "text/plain": [
              "<Figure size 432x288 with 1 Axes>"
            ],
            "image/png": "[encoded data removed]"
          },
          "metadata": {
            "needs_background": "light"
          }
        }
      ]
    },
    {
      "cell_type": "markdown",
      "source": [
        "From plot it is clear that stroke chances are high for married people who are aged between 0-36 years, as compared to people from same age group who are not married. However, after 40 years, chances of stroke are high among those who have never married, exception being at 50-60 and 80-90."
      ],
      "metadata": {
        "id": "Nn9kNAAF1EiP"
      }
    },
    {
      "cell_type": "markdown",
      "source": [
        "Let's plot the category vs chance plot for work types"
      ],
      "metadata": {
        "id": "HFNG6ZRl3o16"
      }
    },
    {
      "cell_type": "code",
      "source": [
        "plot_chances('work_type',\n",
        "chance_column = 'stroke',\n",
        "df = df,\n",
        "figsize = (8, 5),\n",
        "x_label = 'Work type',\n",
        "y_label = 'Chance of stroke',\n",
        "title = 'Work type vs Chance of Stroke',\n",
        ")"
      ],
      "metadata": {
        "id": "jjgSOr7iIkoF",
        "execution": {
          "iopub.status.busy": "2022-07-20T07:09:42.904871Z",
          "iopub.execute_input": "2022-07-20T07:09:42.905366Z",
          "iopub.status.idle": "2022-07-20T07:09:43.110403Z",
          "shell.execute_reply.started": "2022-07-20T07:09:42.905336Z",
          "shell.execute_reply": "2022-07-20T07:09:43.109508Z"
        },
        "trusted": true,
        "colab": {
          "base_uri": "https://localhost:8080/",
          "height": 353
        },
        "outputId": "da16cb53-f294-4226-ad7f-e65bf64992d0"
      },
      "execution_count": 30,
      "outputs": [
        {
          "output_type": "display_data",
          "data": {
            "text/plain": [
              "<Figure size 576x360 with 1 Axes>"
            ],
            "image/png": "[encoded data removed]"
          },
          "metadata": {
            "needs_background": "light"
          }
        }
      ]
    },
    {
      "cell_type": "markdown",
      "source": [
        "We see from plot that the chance of stroke for people who are self-employed is higher than rest, and for people who have never worked(including children) it is quite low. So, we can hypothesise as follows:\n",
        "\n",
        "Null hypothesis : H0 :- \n",
        "\n",
        "(i)Stroke chance is above average for a person who is self-employed\n",
        "\n",
        "(ii)Stroke chance is average for a person with government job, or a person with private job.\n",
        "\n",
        "(iii)Stroke chance is below average for a person who has never worked or is a child.\n",
        "\n",
        "Let's test our hypothesis at level of significance 0.05"
      ],
      "metadata": {
        "id": "jBwJAmOxeG4r"
      }
    },
    {
      "cell_type": "code",
      "source": [
        "compute_normal_confidence_interval('Self-employed', 'work_type', 'stroke', df, 0.05, 1, 'gt')\n",
        "compute_normal_confidence_interval('Private', 'work_type', 'stroke', df, 0.05)\n",
        "compute_normal_confidence_interval('Govt_job', 'work_type', 'stroke', df, 0.05)\n",
        "compute_normal_confidence_interval('children', 'work_type', 'stroke', df, 0.05, 1, 'lt')\n",
        "compute_normal_confidence_interval('Never_worked', 'work_type', 'stroke', df, 0.05, 1, 'lt')"
      ],
      "metadata": {
        "id": "eMi7LF5JIkoG",
        "execution": {
          "iopub.status.busy": "2022-07-20T07:09:43.112109Z",
          "iopub.execute_input": "2022-07-20T07:09:43.112823Z",
          "iopub.status.idle": "2022-07-20T07:09:43.146615Z",
          "shell.execute_reply.started": "2022-07-20T07:09:43.112780Z",
          "shell.execute_reply": "2022-07-20T07:09:43.145295Z"
        },
        "trusted": true,
        "colab": {
          "base_uri": "https://localhost:8080/"
        },
        "outputId": "bf4e328a-fa67-4f71-f5e7-52c5029092ed"
      },
      "execution_count": 31,
      "outputs": [
        {
          "output_type": "stream",
          "name": "stdout",
          "text": [
            "Sample mean of stroke for value Self-employed in work_type column is 0.08 and lies within confidence interval (0.03,inf)\n",
            "Sample mean of stroke for value Private in work_type column is 0.05 and lies within confidence interval (0.04,0.06)\n",
            "Sample mean of stroke for value Govt_job in work_type column is 0.05 and lies within confidence interval (0.03,0.07)\n",
            "Sample mean of stroke for value children in work_type column is 0.00 and lies within confidence interval (-inf,0.05)\n",
            "Sample mean of stroke for value Never_worked in work_type column is 0.00 and lies within confidence interval (-inf,0.05)\n"
          ]
        }
      ]
    },
    {
      "cell_type": "markdown",
      "source": [
        "We see that our null hypothesis is true. Hence, we accept it.\n",
        "\n",
        "Hence, we conclude that:\n",
        "(i)chance of stroke is significantly high for people who are self-employed.\n",
        "\n",
        "(ii)chance of stroke is average for people with government or private job.\n",
        "\n",
        "(iii)chance of stroke is significantly low for people with no job/children."
      ],
      "metadata": {
        "id": "UQYngBS9IkoG"
      }
    },
    {
      "cell_type": "markdown",
      "source": [
        "Let's plot the chances of stroke for people residing in Rural and Urban Areas"
      ],
      "metadata": {
        "id": "XQeUvgm8308w"
      }
    },
    {
      "cell_type": "code",
      "source": [
        "plot_chances('Residence_type',\n",
        "chance_column = 'stroke',\n",
        "df = df,\n",
        "figsize = (8, 5),\n",
        "x_label = 'Residence type',\n",
        "y_label = 'Chance of stroke',\n",
        "title = 'Residence type vs Chance of Stroke',\n",
        ")"
      ],
      "metadata": {
        "id": "7b6dl2iBIkoI",
        "execution": {
          "iopub.status.busy": "2022-07-20T07:09:43.148388Z",
          "iopub.execute_input": "2022-07-20T07:09:43.148738Z",
          "iopub.status.idle": "2022-07-20T07:09:43.329824Z",
          "shell.execute_reply.started": "2022-07-20T07:09:43.148688Z",
          "shell.execute_reply": "2022-07-20T07:09:43.328189Z"
        },
        "trusted": true,
        "colab": {
          "base_uri": "https://localhost:8080/",
          "height": 352
        },
        "outputId": "1a6a16dd-532a-4804-a1af-51ba84095401"
      },
      "execution_count": 32,
      "outputs": [
        {
          "output_type": "display_data",
          "data": {
            "text/plain": [
              "<Figure size 576x360 with 1 Axes>"
            ],
            "image/png": "[encoded data removed]"
          },
          "metadata": {
            "needs_background": "light"
          }
        }
      ]
    },
    {
      "cell_type": "markdown",
      "source": [
        "Null hypothesis : H0 :- Stroke chance remains average for a person who is from Urban area\n",
        "\n",
        "Alternate hypothesis : H1 :- Stroke chance is not average for person who is from Urban area"
      ],
      "metadata": {
        "id": "-zSLoyCWIkoI"
      }
    },
    {
      "cell_type": "code",
      "source": [
        "compute_normal_confidence_interval('Urban', 'Residence_type', 'stroke', df, 0.05)"
      ],
      "metadata": {
        "id": "sHm6GZDkIkoI",
        "execution": {
          "iopub.status.busy": "2022-07-20T07:09:43.332368Z",
          "iopub.execute_input": "2022-07-20T07:09:43.332763Z",
          "iopub.status.idle": "2022-07-20T07:09:43.346610Z",
          "shell.execute_reply.started": "2022-07-20T07:09:43.332730Z",
          "shell.execute_reply": "2022-07-20T07:09:43.345393Z"
        },
        "trusted": true,
        "colab": {
          "base_uri": "https://localhost:8080/"
        },
        "outputId": "f87bc7fb-7d78-4bd6-fc6e-7c31e5aaaa80"
      },
      "execution_count": 33,
      "outputs": [
        {
          "output_type": "stream",
          "name": "stdout",
          "text": [
            "Sample mean of stroke for value Urban in Residence_type column is 0.05 and lies within confidence interval (0.04,0.06)\n"
          ]
        }
      ]
    },
    {
      "cell_type": "markdown",
      "source": [
        "Since chance of stroke for the person residing in urban area is within confidence interval, we accept the null hypothesis\n",
        "\n",
        "Hence, chance of stroke is average for people from urban area"
      ],
      "metadata": {
        "id": "w603SEfmIkoJ"
      }
    },
    {
      "cell_type": "markdown",
      "source": [
        "Let's plot the chances of stroke vs the smoking category of people"
      ],
      "metadata": {
        "id": "tNBd5Zny4JSK"
      }
    },
    {
      "cell_type": "code",
      "source": [
        "plot_chances('smoking_status',\n",
        "chance_column = 'stroke',\n",
        "df = df,\n",
        "figsize = (8, 5),\n",
        "x_label = 'Smoking Status',\n",
        "y_label = 'Chance of stroke',\n",
        "title = 'Smoking Status vs Chance of Stroke',\n",
        ")"
      ],
      "metadata": {
        "id": "_BAouU0wIkoJ",
        "execution": {
          "iopub.status.busy": "2022-07-20T07:09:43.348986Z",
          "iopub.execute_input": "2022-07-20T07:09:43.349679Z",
          "iopub.status.idle": "2022-07-20T07:09:43.546946Z",
          "shell.execute_reply.started": "2022-07-20T07:09:43.349644Z",
          "shell.execute_reply": "2022-07-20T07:09:43.545783Z"
        },
        "trusted": true,
        "colab": {
          "base_uri": "https://localhost:8080/",
          "height": 352
        },
        "outputId": "434e1197-f58c-4f4a-f936-f023c8939604"
      },
      "execution_count": 34,
      "outputs": [
        {
          "output_type": "display_data",
          "data": {
            "text/plain": [
              "<Figure size 576x360 with 1 Axes>"
            ],
            "image/png": "[encoded data removed]"
          },
          "metadata": {
            "needs_background": "light"
          }
        }
      ]
    },
    {
      "cell_type": "markdown",
      "source": [
        "From plot, we see that the chance of stroke for the people who have formerly smoked is high, followed by people who currently smoke, people who have never smoked, and people whose smoking status is not known.\n",
        "\n",
        "So we can hypothesise that:\n",
        "\n",
        "(i)Chance of stroke for the people who have formerly smoked is higher than average.\n",
        "\n",
        "(ii)Chance of stroke for people who are currently smoking is average.\n",
        "\n",
        "(iii)Chance of stroke for people who have never smoked is average.\n",
        "\n",
        "(iv)Chance of stroke for people whose smoking status is not known is average.\n",
        "\n",
        "Let's test these hypothesis at level of significance 0.05."
      ],
      "metadata": {
        "id": "5ESZHiJLeG4u"
      }
    },
    {
      "cell_type": "code",
      "source": [
        "compute_normal_confidence_interval('formerly smoked', 'smoking_status', 'stroke', df, 0.05, 1, 'gt')\n",
        "compute_normal_confidence_interval('smokes', 'smoking_status', 'stroke', df, 0.05)\n",
        "compute_normal_confidence_interval('never smoked', 'smoking_status', 'stroke', df, 0.05)\n",
        "compute_normal_confidence_interval('Unknown', 'smoking_status', 'stroke', df, 0.05)"
      ],
      "metadata": {
        "id": "xBxfUsAxIkoK",
        "execution": {
          "iopub.status.busy": "2022-07-20T07:09:43.548391Z",
          "iopub.execute_input": "2022-07-20T07:09:43.548760Z",
          "iopub.status.idle": "2022-07-20T07:09:43.578205Z",
          "shell.execute_reply.started": "2022-07-20T07:09:43.548698Z",
          "shell.execute_reply": "2022-07-20T07:09:43.576705Z"
        },
        "trusted": true,
        "colab": {
          "base_uri": "https://localhost:8080/"
        },
        "outputId": "a3866b98-dd98-4b27-cd9c-0187bd345625"
      },
      "execution_count": 35,
      "outputs": [
        {
          "output_type": "stream",
          "name": "stdout",
          "text": [
            "Sample mean of stroke for value formerly smoked in smoking_status column is 0.08 and lies within confidence interval (0.03,inf)\n",
            "Sample mean of stroke for value smokes in smoking_status column is 0.05 and lies within confidence interval (0.03,0.07)\n",
            "Sample mean of stroke for value never smoked in smoking_status column is 0.05 and lies within confidence interval (0.04,0.06)\n",
            "Sample mean of stroke for value Unknown in smoking_status column is 0.03 and lies outside of confidence interval (0.04,0.06)\n"
          ]
        }
      ]
    },
    {
      "cell_type": "markdown",
      "source": [
        "We see that our hypothesis can be accepted based on confidence intervals."
      ],
      "metadata": {
        "id": "KBfcT9knIkoK"
      }
    },
    {
      "cell_type": "markdown",
      "source": [
        "Hence, we can conclude that for people:\n",
        "\n",
        "(i) who have previously smoked but have discontinued the practice, the chance of stroke is significantly high\n",
        "\n",
        "(ii) who never smoke, or are currently smoking, chance of stroke is average\n",
        "\n",
        "(iii)whose smoking details are not known, chance of stroke is significantly low.\n",
        "\n",
        "Last one poses a significant problem in making predictions. This is because stroke chance for this class significantly differs from average chance, and also because it represents large percentage(about 33%) of population, but provides no information."
      ],
      "metadata": {
        "id": "S4DikUfYIkoL"
      }
    },
    {
      "cell_type": "markdown",
      "source": [
        "Let's plot chances of stroke against age groups of people."
      ],
      "metadata": {
        "id": "LDoKCb1O4Ylu"
      }
    },
    {
      "cell_type": "code",
      "source": [
        "plot_chances('age',\n",
        "chance_column = 'stroke',\n",
        "df = df,\n",
        "figsize = (8, 5),\n",
        "labels = (0, 100, 10),\n",
        "x_label = 'Age (in years)',\n",
        "y_label = 'Chance of stroke',\n",
        "title = 'Age vs Chance of Stroke',\n",
        ")"
      ],
      "metadata": {
        "id": "9aApNVQyIkoL",
        "execution": {
          "iopub.status.busy": "2022-07-20T07:09:43.579774Z",
          "iopub.execute_input": "2022-07-20T07:09:43.580115Z",
          "iopub.status.idle": "2022-07-20T07:09:43.822400Z",
          "shell.execute_reply.started": "2022-07-20T07:09:43.580084Z",
          "shell.execute_reply": "2022-07-20T07:09:43.820974Z"
        },
        "trusted": true,
        "colab": {
          "base_uri": "https://localhost:8080/",
          "height": 352
        },
        "outputId": "6022b5f5-8db8-44cc-a86c-de6fb611ef77"
      },
      "execution_count": 36,
      "outputs": [
        {
          "output_type": "display_data",
          "data": {
            "text/plain": [
              "<Figure size 576x360 with 1 Axes>"
            ],
            "image/png": "[encoded data removed]"
          },
          "metadata": {
            "needs_background": "light"
          }
        }
      ]
    },
    {
      "cell_type": "markdown",
      "source": [
        "We see that the chance of stroke is high for the people with age > 50 and low for the age < 50.\n",
        "\n",
        "Let's test these inferences at level of significance 0.05"
      ],
      "metadata": {
        "id": "Crs8-X5VeG4v"
      }
    },
    {
      "cell_type": "code",
      "source": [
        "compute_normal_confidence_interval((60, 90), 'age', 'stroke', df, 0.05, 1, 'gt')\n",
        "compute_normal_confidence_interval((50, 60), 'age', 'stroke', df, 0.05)\n",
        "compute_normal_confidence_interval((0, 50), 'age', 'stroke', df, 0.05, 1, 'lt')"
      ],
      "metadata": {
        "execution": {
          "iopub.status.busy": "2022-07-20T07:09:43.824217Z",
          "iopub.execute_input": "2022-07-20T07:09:43.824620Z",
          "iopub.status.idle": "2022-07-20T07:09:43.848106Z",
          "shell.execute_reply.started": "2022-07-20T07:09:43.824587Z",
          "shell.execute_reply": "2022-07-20T07:09:43.846820Z"
        },
        "trusted": true,
        "id": "cUXvdr21eG4w",
        "colab": {
          "base_uri": "https://localhost:8080/"
        },
        "outputId": "35075a6a-efae-486c-c6db-b50f5aa7a352"
      },
      "execution_count": 37,
      "outputs": [
        {
          "output_type": "stream",
          "name": "stdout",
          "text": [
            "Sample mean of stroke for range (60, 90) in age column is 0.14 and lies within confidence interval (0.03,inf)\n",
            "Sample mean of stroke for range (50, 60) in age column is 0.06 and lies within confidence interval (0.03,0.07)\n",
            "Sample mean of stroke for range (0, 50) in age column is 0.01 and lies within confidence interval (-inf,0.05)\n"
          ]
        }
      ]
    },
    {
      "cell_type": "markdown",
      "source": [
        "Since the average chance of stroke lies in (0.04, 0.05), we see that: \n",
        "\n",
        "(i) chance of stroke is significantly high for those above 60 years in age.\n",
        "\n",
        "(ii)chance of stroke is significantly low for those aged below 40 years\n",
        "\n",
        "(iii)chance of stroke is average for those aged 50-60"
      ],
      "metadata": {
        "id": "_yL2ycdNIkoM"
      }
    },
    {
      "cell_type": "markdown",
      "source": [
        "Let's plot the chances of stroke against BMI."
      ],
      "metadata": {
        "id": "XdisbXQc4nD3"
      }
    },
    {
      "cell_type": "code",
      "source": [
        "plot_chances('bmi',\n",
        "chance_column = 'stroke',\n",
        "df = df,\n",
        "figsize = (8, 5),\n",
        "labels = (15, 60, 5),\n",
        "x_label = 'BMI',\n",
        "y_label = 'Chance of stroke',\n",
        "title = 'BMI vs Chance of Stroke',\n",
        ")"
      ],
      "metadata": {
        "id": "CxGCAVGZIkoM",
        "execution": {
          "iopub.status.busy": "2022-07-20T07:09:43.849852Z",
          "iopub.execute_input": "2022-07-20T07:09:43.850180Z",
          "iopub.status.idle": "2022-07-20T07:09:44.090676Z",
          "shell.execute_reply.started": "2022-07-20T07:09:43.850152Z",
          "shell.execute_reply": "2022-07-20T07:09:44.089145Z"
        },
        "trusted": true,
        "colab": {
          "base_uri": "https://localhost:8080/",
          "height": 352
        },
        "outputId": "83f6fe51-0c58-428a-df93-5522196917b5"
      },
      "execution_count": 38,
      "outputs": [
        {
          "output_type": "display_data",
          "data": {
            "text/plain": [
              "<Figure size 576x360 with 1 Axes>"
            ],
            "image/png": "[encoded data removed]"
          },
          "metadata": {
            "needs_background": "light"
          }
        }
      ]
    },
    {
      "cell_type": "markdown",
      "source": [
        "We see that for BMI 50-55, chances of stroke are nil. This could be due to less no. of data points with such BMI. Let's check if our assumption is true"
      ],
      "metadata": {
        "id": "UGqA4z00eG4x"
      }
    },
    {
      "cell_type": "code",
      "source": [
        "print('No. of people with 50 < BMI < 55 :', df[(df['bmi'] > 50) & (df['bmi'] < 55)].shape[0])"
      ],
      "metadata": {
        "execution": {
          "iopub.status.busy": "2022-07-20T07:09:44.092662Z",
          "iopub.execute_input": "2022-07-20T07:09:44.093014Z",
          "iopub.status.idle": "2022-07-20T07:09:44.101187Z",
          "shell.execute_reply.started": "2022-07-20T07:09:44.092984Z",
          "shell.execute_reply": "2022-07-20T07:09:44.100130Z"
        },
        "trusted": true,
        "id": "aIlyr-9ReG4x",
        "colab": {
          "base_uri": "https://localhost:8080/"
        },
        "outputId": "c228f8a9-d740-4e5a-b58f-8a188d54de27"
      },
      "execution_count": 39,
      "outputs": [
        {
          "output_type": "stream",
          "name": "stdout",
          "text": [
            "No. of people with 50 < BMI < 55 : 44\n"
          ]
        }
      ]
    },
    {
      "cell_type": "markdown",
      "source": [
        "44 is not a very small number to give such a large bias, if the dataset was obtained by proper sampling. Since we don't know the methodology behind collection of data, we cannot declare that there is significantly low chance of stroke associated with people with BMI between 50 and 55.\n",
        "\n",
        "Now, we see that stroke chance peaks at 45-50 and is low at BMI 15-25. We will these for difference from mean, at level of significance 0.2"
      ],
      "metadata": {
        "id": "JRrnAShMeG4x"
      }
    },
    {
      "cell_type": "code",
      "source": [
        "compute_normal_confidence_interval((45, 50), 'bmi', 'stroke', df, 0.2, 1, 'gt')\n",
        "compute_normal_confidence_interval((15, 25), 'bmi', 'stroke', df, 0.2, 1, 'lt')"
      ],
      "metadata": {
        "execution": {
          "iopub.status.busy": "2022-07-20T07:09:44.102642Z",
          "iopub.execute_input": "2022-07-20T07:09:44.103866Z",
          "iopub.status.idle": "2022-07-20T07:09:44.123863Z",
          "shell.execute_reply.started": "2022-07-20T07:09:44.103828Z",
          "shell.execute_reply": "2022-07-20T07:09:44.122045Z"
        },
        "trusted": true,
        "id": "5A9_SubxeG4x",
        "colab": {
          "base_uri": "https://localhost:8080/"
        },
        "outputId": "89fc1ddf-06bc-4655-f490-d79297da5f7f"
      },
      "execution_count": 40,
      "outputs": [
        {
          "output_type": "stream",
          "name": "stdout",
          "text": [
            "Sample mean of stroke for range (45, 50) in bmi column is 0.08 and lies within confidence interval (0.02,inf)\n",
            "Sample mean of stroke for range (15, 25) in bmi column is 0.02 and lies within confidence interval (-inf,0.05)\n"
          ]
        }
      ]
    },
    {
      "cell_type": "markdown",
      "source": [
        "Since the average chance of stroke lies in (0.04, 0.05), we see that: \n",
        "\n",
        "(i) chance of stroke is significantly high for those having bmi 45-50.\n",
        "\n",
        "(ii)chance of stroke is significantly low for those whose bmi is below 25\n",
        "\n",
        "(iii)minima at 50-55 is an anomaly"
      ],
      "metadata": {
        "id": "1j3rXdZ_IkoM"
      }
    },
    {
      "cell_type": "markdown",
      "source": [
        "Let's plot chance of stroke against average glucose levels"
      ],
      "metadata": {
        "id": "cV398Kk84yZY"
      }
    },
    {
      "cell_type": "code",
      "source": [
        "plot_chances('avg_glucose_level',\n",
        "chance_column = 'stroke',\n",
        "df = df,\n",
        "figsize = (8, 5),\n",
        "labels = (30, 330, 30),\n",
        "x_label = 'Average glucose level (in mg/dl)',\n",
        "y_label = 'Chance of stroke',\n",
        "title = 'Average glucose level vs Chance of Stroke',\n",
        ")"
      ],
      "metadata": {
        "id": "KQudyf7UIkoN",
        "execution": {
          "iopub.status.busy": "2022-07-20T07:09:44.125376Z",
          "iopub.execute_input": "2022-07-20T07:09:44.125962Z",
          "iopub.status.idle": "2022-07-20T07:09:44.350505Z",
          "shell.execute_reply.started": "2022-07-20T07:09:44.125929Z",
          "shell.execute_reply": "2022-07-20T07:09:44.349728Z"
        },
        "trusted": true,
        "colab": {
          "base_uri": "https://localhost:8080/",
          "height": 352
        },
        "outputId": "887fc6c0-cd4b-4219-af5e-794ac9a5f5e9"
      },
      "execution_count": 41,
      "outputs": [
        {
          "output_type": "display_data",
          "data": {
            "text/plain": [
              "<Figure size 576x360 with 1 Axes>"
            ],
            "image/png": "[encoded data removed]"
          },
          "metadata": {
            "needs_background": "light"
          }
        }
      ]
    },
    {
      "cell_type": "markdown",
      "source": [
        "From plot, we see that chance of stroke is abnormally high(i.e., 100%) for those with mean glucose levels above 270 mg/dl.\n",
        "\n",
        "This could be due to less no. of data points with such glucose levels. So let's take a count of people with such level of glucose"
      ],
      "metadata": {
        "id": "Nwvc1j1cIkoO"
      }
    },
    {
      "cell_type": "code",
      "source": [
        "print('Count for some extreme cases: ')\n",
        "print('People with glucose levels higher than 270mg/dl : ', df[df['avg_glucose_level'] > 270].shape[0])\n",
        "print('People with glucose levels between 240-270 mg/dl : ', df[(df['avg_glucose_level'] < 270) & (df['avg_glucose_level'] > 240)].shape[0])\n",
        "print('People with glucose levels between 30-60 mg/dl : ', df[(df['avg_glucose_level'] < 60) & (df['avg_glucose_level'] > 30)].shape[0])"
      ],
      "metadata": {
        "id": "sQjHeHm15cmv",
        "execution": {
          "iopub.status.busy": "2022-07-20T07:09:44.352235Z",
          "iopub.execute_input": "2022-07-20T07:09:44.352591Z",
          "iopub.status.idle": "2022-07-20T07:09:44.363839Z",
          "shell.execute_reply.started": "2022-07-20T07:09:44.352560Z",
          "shell.execute_reply": "2022-07-20T07:09:44.362192Z"
        },
        "trusted": true,
        "colab": {
          "base_uri": "https://localhost:8080/"
        },
        "outputId": "52429a29-e2ef-47b9-9644-c0257a9b889f"
      },
      "execution_count": 42,
      "outputs": [
        {
          "output_type": "stream",
          "name": "stdout",
          "text": [
            "Count for some extreme cases: \n",
            "People with glucose levels higher than 270mg/dl :  1\n",
            "People with glucose levels between 240-270 mg/dl :  54\n",
            "People with glucose levels between 30-60 mg/dl :  220\n"
          ]
        }
      ]
    },
    {
      "cell_type": "markdown",
      "source": [
        "Since there is only one such person having glucose level > 270, the stroke chance for this glucose level gives us no information.\n",
        "\n",
        "Now, let's plot the chances of stroke against the glucose levels, this time excluding the case with glucose level above 270 mg/dl."
      ],
      "metadata": {
        "id": "w-6PLlle6MuR"
      }
    },
    {
      "cell_type": "code",
      "source": [
        "plot_chances('avg_glucose_level',\n",
        "chance_column = 'stroke',\n",
        "df = df[df['avg_glucose_level'] < 270],\n",
        "figsize = (8, 5),\n",
        "labels = (30, 270, 30),\n",
        "x_label = 'Average glucose level (in mg/dl)',\n",
        "y_label = 'Chance of stroke',\n",
        "title = 'Average glucose level vs Chance of Stroke',\n",
        ")"
      ],
      "metadata": {
        "id": "WpjbogX68XIS",
        "execution": {
          "iopub.status.busy": "2022-07-20T07:09:44.365615Z",
          "iopub.execute_input": "2022-07-20T07:09:44.366130Z",
          "iopub.status.idle": "2022-07-20T07:09:44.614155Z",
          "shell.execute_reply.started": "2022-07-20T07:09:44.366086Z",
          "shell.execute_reply": "2022-07-20T07:09:44.612808Z"
        },
        "trusted": true,
        "colab": {
          "base_uri": "https://localhost:8080/",
          "height": 352
        },
        "outputId": "717df217-0b4b-44b6-8eb5-ff7e3f65e292"
      },
      "execution_count": 43,
      "outputs": [
        {
          "output_type": "display_data",
          "data": {
            "text/plain": [
              "<Figure size 576x360 with 1 Axes>"
            ],
            "image/png": "[encoded data removed]"
          },
          "metadata": {
            "needs_background": "light"
          }
        }
      ]
    },
    {
      "cell_type": "markdown",
      "source": [
        "We see that chance of stroke is low for people with glucose levels upto 150 mg/dl. However, beyond that the chance of stroke increases.\n",
        "\n",
        "Let's test whether the chance of stroke is significantly high for people with glucose levels greater than 150 mg/dl and significantly low for those with glucose levels below 150 mg/dl at level of significance 0.05"
      ],
      "metadata": {
        "id": "AfJtSRUEeG4z"
      }
    },
    {
      "cell_type": "code",
      "source": [
        "compute_normal_confidence_interval((0, 150), 'avg_glucose_level', 'stroke', df, 0.05, 1, 'lt')\n",
        "compute_normal_confidence_interval((150, 300), 'avg_glucose_level', 'stroke', df, 0.05, 1, 'gt')"
      ],
      "metadata": {
        "execution": {
          "iopub.status.busy": "2022-07-20T07:09:44.619598Z",
          "iopub.execute_input": "2022-07-20T07:09:44.620018Z",
          "iopub.status.idle": "2022-07-20T07:09:44.638908Z",
          "shell.execute_reply.started": "2022-07-20T07:09:44.619985Z",
          "shell.execute_reply": "2022-07-20T07:09:44.637674Z"
        },
        "trusted": true,
        "id": "xNEUmp_leG4z",
        "colab": {
          "base_uri": "https://localhost:8080/"
        },
        "outputId": "e7666a49-1347-4f79-bf2e-7cff1a78972e"
      },
      "execution_count": 44,
      "outputs": [
        {
          "output_type": "stream",
          "name": "stdout",
          "text": [
            "Sample mean of stroke for range (0, 150) in avg_glucose_level column is 0.04 and lies within confidence interval (-inf,0.06)\n",
            "Sample mean of stroke for range (150, 300) in avg_glucose_level column is 0.12 and lies within confidence interval (0.03,inf)\n"
          ]
        }
      ]
    },
    {
      "cell_type": "markdown",
      "source": [
        "Since the average chance of stroke lies in (0.04, 0.05), from plot it is clear that:\n",
        "\n",
        " (i) chance of stroke for people with glucose levels greater than 150 is significantly high,\n",
        "\n",
        "(ii) chance of stroke for people with glucose levels lesser than 150 is significantly low.\n"
      ],
      "metadata": {
        "id": "2dd9tbH-86g3"
      }
    },
    {
      "cell_type": "markdown",
      "source": [
        "## Conclusion"
      ],
      "metadata": {
        "id": "qCJxvYFbeG40"
      }
    },
    {
      "cell_type": "markdown",
      "source": [
        "After thorough analysis we found that the main factors for the stroke are :-  hypertension, heart disease, age, and average glucose level. Other prominent factors were the type of job, and whether the person has married at least once. The risk was high for people with hypertension and heart disease. Also, it increases with age. However, for the children(those below 18 years of age), the risk was quite low. For people with diabetes, i.e., with those people whose average glucose levels were > 120, the risk of was high, and increased with increasing glucose levels. However, for those with low glucose levels(< 100 mg/dl), the risk was average.\n",
        "\n",
        "The risk was high for people who are employed compared to those who are not. Among those who are employed the risk was high for people who are self-employed, while for those with private or government job, it was average.\n",
        "\n",
        "Those who were married had overall higher risk compared to those who didn't marry. But for those aged above 40 years of age, the risk was generally higher among those who are not married.\n",
        "\n",
        "Risk of stroke is average for both males and females. Hence gender is not a major factor in occurance of stroke. Same can be said about the residence type of person. People who live in urban areas and those who live in rural areas have average risk.\n",
        "\n",
        "Most significant anomalies were from the BMI's relationship with risk of stroke. For people with low BMI, the risk was low, but for people with very high BMI, risk was much lower. \n",
        "\n",
        "However, we cannot draw any bold conclusions from this analysis. This is because we don't know the methodology used in collecting the data, and the source of data too. Nevertheless,  the data reinforces already known facts about stroke.\n"
      ],
      "metadata": {
        "id": "UuOBIr_leG40"
      }
    }
  ]
}